{
 "cells": [
  {
   "cell_type": "markdown",
   "metadata": {
    "collapsed": true,
    "deletable": true,
    "editable": true
   },
   "source": [
    "# Image Classification\n",
    "In this project, you'll classify images from the [CIFAR-10 dataset](https://www.cs.toronto.edu/~kriz/cifar.html).  The dataset consists of airplanes, dogs, cats, and other objects. You'll preprocess the images, then train a convolutional neural network on all the samples. The images need to be normalized and the labels need to be one-hot encoded.  You'll get to apply what you learned and build a convolutional, max pooling, dropout, and fully connected layers.  At the end, you'll get to see your neural network's predictions on the sample images.\n",
    "## Get the Data\n",
    "Run the following cell to download the [CIFAR-10 dataset for python](https://www.cs.toronto.edu/~kriz/cifar-10-python.tar.gz)."
   ]
  },
  {
   "cell_type": "code",
   "execution_count": 1,
   "metadata": {
    "collapsed": false,
    "deletable": true,
    "editable": true
   },
   "outputs": [
    {
     "name": "stdout",
     "output_type": "stream",
     "text": [
      "All files found!\n"
     ]
    }
   ],
   "source": [
    "\"\"\"\n",
    "DON'T MODIFY ANYTHING IN THIS CELL THAT IS BELOW THIS LINE\n",
    "\"\"\"\n",
    "from urllib.request import urlretrieve\n",
    "from os.path import isfile, isdir\n",
    "from tqdm import tqdm\n",
    "import problem_unittests as tests\n",
    "import tarfile\n",
    "\n",
    "cifar10_dataset_folder_path = 'cifar-10-batches-py'\n",
    "\n",
    "# Use Floyd's cifar-10 dataset if present\n",
    "floyd_cifar10_location = '/input/cifar-10/python.tar.gz'\n",
    "if isfile(floyd_cifar10_location):\n",
    "    tar_gz_path = floyd_cifar10_location\n",
    "else:\n",
    "    tar_gz_path = 'cifar-10-python.tar.gz'\n",
    "\n",
    "class DLProgress(tqdm):\n",
    "    last_block = 0\n",
    "\n",
    "    def hook(self, block_num=1, block_size=1, total_size=None):\n",
    "        self.total = total_size\n",
    "        self.update((block_num - self.last_block) * block_size)\n",
    "        self.last_block = block_num\n",
    "\n",
    "if not isfile(tar_gz_path):\n",
    "    with DLProgress(unit='B', unit_scale=True, miniters=1, desc='CIFAR-10 Dataset') as pbar:\n",
    "        urlretrieve(\n",
    "            'https://www.cs.toronto.edu/~kriz/cifar-10-python.tar.gz',\n",
    "            tar_gz_path,\n",
    "            pbar.hook)\n",
    "\n",
    "if not isdir(cifar10_dataset_folder_path):\n",
    "    with tarfile.open(tar_gz_path) as tar:\n",
    "        tar.extractall()\n",
    "        tar.close()\n",
    "\n",
    "\n",
    "tests.test_folder_path(cifar10_dataset_folder_path)"
   ]
  },
  {
   "cell_type": "markdown",
   "metadata": {
    "deletable": true,
    "editable": true
   },
   "source": [
    "## Explore the Data\n",
    "The dataset is broken into batches to prevent your machine from running out of memory.  The CIFAR-10 dataset consists of 5 batches, named `data_batch_1`, `data_batch_2`, etc.. Each batch contains the labels and images that are one of the following:\n",
    "* airplane\n",
    "* automobile\n",
    "* bird\n",
    "* cat\n",
    "* deer\n",
    "* dog\n",
    "* frog\n",
    "* horse\n",
    "* ship\n",
    "* truck\n",
    "\n",
    "Understanding a dataset is part of making predictions on the data.  Play around with the code cell below by changing the `batch_id` and `sample_id`. The `batch_id` is the id for a batch (1-5). The `sample_id` is the id for a image and label pair in the batch.\n",
    "\n",
    "Ask yourself \"What are all possible labels?\", \"What is the range of values for the image data?\", \"Are the labels in order or random?\".  Answers to questions like these will help you preprocess the data and end up with better predictions."
   ]
  },
  {
   "cell_type": "code",
   "execution_count": 2,
   "metadata": {
    "collapsed": false,
    "deletable": true,
    "editable": true
   },
   "outputs": [
    {
     "name": "stdout",
     "output_type": "stream",
     "text": [
      "\n",
      "Stats of batch 1:\n",
      "Samples: 10000\n",
      "Label Counts: {0: 1005, 1: 974, 2: 1032, 3: 1016, 4: 999, 5: 937, 6: 1030, 7: 1001, 8: 1025, 9: 981}\n",
      "First 20 Labels: [6, 9, 9, 4, 1, 1, 2, 7, 8, 3, 4, 7, 7, 2, 9, 9, 9, 3, 2, 6]\n",
      "\n",
      "Example of Image 5:\n",
      "Image - Min Value: 0 Max Value: 252\n",
      "Image - Shape: (32, 32, 3)\n",
      "Label - Label Id: 1 Name: automobile\n"
     ]
    },
    {
     "data": {
      "image/png": "[encoded data removed]",
      "text/plain": [
       "<matplotlib.figure.Figure at 0x7fc9097a2978>"
      ]
     },
     "metadata": {
      "image/png": {
       "height": 250,
       "width": 253
      }
     },
     "output_type": "display_data"
    }
   ],
   "source": [
    "%matplotlib inline\n",
    "%config InlineBackend.figure_format = 'retina'\n",
    "\n",
    "import helper\n",
    "import numpy as np\n",
    "\n",
    "# Explore the dataset\n",
    "batch_id = 1\n",
    "sample_id = 5\n",
    "helper.display_stats(cifar10_dataset_folder_path, batch_id, sample_id)"
   ]
  },
  {
   "cell_type": "markdown",
   "metadata": {
    "deletable": true,
    "editable": true
   },
   "source": [
    "## Implement Preprocess Functions\n",
    "### Normalize\n",
    "In the cell below, implement the `normalize` function to take in image data, `x`, and return it as a normalized Numpy array. The values should be in the range of 0 to 1, inclusive.  The return object should be the same shape as `x`."
   ]
  },
  {
   "cell_type": "code",
   "execution_count": 3,
   "metadata": {
    "collapsed": false,
    "deletable": true,
    "editable": true
   },
   "outputs": [
    {
     "name": "stdout",
     "output_type": "stream",
     "text": [
      "Tests Passed\n"
     ]
    }
   ],
   "source": [
    "def normalize(x):\n",
    "    \"\"\"\n",
    "    Normalize a list of sample image data in the range of 0 to 1\n",
    "    : x: List of image data.  The image shape is (32, 32, 3)\n",
    "    : return: Numpy array of normalize data\n",
    "    \"\"\"\n",
    "    # TODO: Implement Function\n",
    "    return x/255\n",
    "\n",
    "\n",
    "\"\"\"\n",
    "DON'T MODIFY ANYTHING IN THIS CELL THAT IS BELOW THIS LINE\n",
    "\"\"\"\n",
    "tests.test_normalize(normalize)"
   ]
  },
  {
   "cell_type": "markdown",
   "metadata": {
    "deletable": true,
    "editable": true
   },
   "source": [
    "### One-hot encode\n",
    "Just like the previous code cell, you'll be implementing a function for preprocessing.  This time, you'll implement the `one_hot_encode` function. The input, `x`, are a list of labels.  Implement the function to return the list of labels as One-Hot encoded Numpy array.  The possible values for labels are 0 to 9. The one-hot encoding function should return the same encoding for each value between each call to `one_hot_encode`.  Make sure to save the map of encodings outside the function.\n",
    "\n",
    "Hint: Don't reinvent the wheel."
   ]
  },
  {
   "cell_type": "code",
   "execution_count": 4,
   "metadata": {
    "collapsed": false,
    "deletable": true,
    "editable": true
   },
   "outputs": [
    {
     "name": "stdout",
     "output_type": "stream",
     "text": [
      "[0 1 2 3 4 5 6 7 8 9]\n"
     ]
    }
   ],
   "source": [
    "from sklearn import preprocessing\n",
    "lb = preprocessing.LabelBinarizer()\n",
    "lb.fit(np.array([i for i in range(10)]))\n",
    "print(lb.classes_)"
   ]
  },
  {
   "cell_type": "code",
   "execution_count": 5,
   "metadata": {
    "collapsed": false,
    "deletable": true,
    "editable": true
   },
   "outputs": [
    {
     "name": "stdout",
     "output_type": "stream",
     "text": [
      "Tests Passed\n"
     ]
    }
   ],
   "source": [
    "\n",
    "\n",
    "def one_hot_encode(x):\n",
    "    \"\"\"\n",
    "    One hot encode a list of sample labels. Return a one-hot encoded vector for each label.\n",
    "    : x: List of sample Labels\n",
    "    : return: Numpy array of one-hot encoded labels\n",
    "    \"\"\"\n",
    "\n",
    "    return lb.transform(x)\n",
    "\n",
    "\n",
    "\"\"\"\n",
    "DON'T MODIFY ANYTHING IN THIS CELL THAT IS BELOW THIS LINE\n",
    "\"\"\"\n",
    "tests.test_one_hot_encode(one_hot_encode)"
   ]
  },
  {
   "cell_type": "markdown",
   "metadata": {
    "deletable": true,
    "editable": true
   },
   "source": [
    "### Randomize Data\n",
    "As you saw from exploring the data above, the order of the samples are randomized.  It doesn't hurt to randomize it again, but you don't need to for this dataset."
   ]
  },
  {
   "cell_type": "markdown",
   "metadata": {
    "deletable": true,
    "editable": true
   },
   "source": [
    "## Preprocess all the data and save it\n",
    "Running the code cell below will preprocess all the CIFAR-10 data and save it to file. The code below also uses 10% of the training data for validation."
   ]
  },
  {
   "cell_type": "code",
   "execution_count": 6,
   "metadata": {
    "collapsed": true,
    "deletable": true,
    "editable": true
   },
   "outputs": [],
   "source": [
    "\"\"\"\n",
    "DON'T MODIFY ANYTHING IN THIS CELL\n",
    "\"\"\"\n",
    "# Preprocess Training, Validation, and Testing Data\n",
    "helper.preprocess_and_save_data(cifar10_dataset_folder_path, normalize, one_hot_encode)"
   ]
  },
  {
   "cell_type": "markdown",
   "metadata": {
    "deletable": true,
    "editable": true
   },
   "source": [
    "# Check Point\n",
    "This is your first checkpoint.  If you ever decide to come back to this notebook or have to restart the notebook, you can start from here.  The preprocessed data has been saved to disk."
   ]
  },
  {
   "cell_type": "code",
   "execution_count": 7,
   "metadata": {
    "collapsed": true,
    "deletable": true,
    "editable": true
   },
   "outputs": [],
   "source": [
    "\"\"\"\n",
    "DON'T MODIFY ANYTHING IN THIS CELL\n",
    "\"\"\"\n",
    "import pickle\n",
    "import problem_unittests as tests\n",
    "import helper\n",
    "\n",
    "# Load the Preprocessed Validation data\n",
    "valid_features, valid_labels = pickle.load(open('preprocess_validation.p', mode='rb'))"
   ]
  },
  {
   "cell_type": "markdown",
   "metadata": {
    "deletable": true,
    "editable": true
   },
   "source": [
    "## Build the network\n",
    "For the neural network, you'll build each layer into a function.  Most of the code you've seen has been outside of functions. To test your code more thoroughly, we require that you put each layer in a function.  This allows us to give you better feedback and test for simple mistakes using our unittests before you submit your project.\n",
    "\n",
    ">**Note:** If you're finding it hard to dedicate enough time for this course each week, we've provided a small shortcut to this part of the project. In the next couple of problems, you'll have the option to use classes from the [TensorFlow Layers](https://www.tensorflow.org/api_docs/python/tf/layers) or [TensorFlow Layers (contrib)](https://www.tensorflow.org/api_guides/python/contrib.layers) packages to build each layer, except the layers you build in the \"Convolutional and Max Pooling Layer\" section.  TF Layers is similar to Keras's and TFLearn's abstraction to layers, so it's easy to pickup.\n",
    "\n",
    ">However, if you would like to get the most out of this course, try to solve all the problems _without_ using anything from the TF Layers packages. You **can** still use classes from other packages that happen to have the same name as ones you find in TF Layers! For example, instead of using the TF Layers version of the `conv2d` class, [tf.layers.conv2d](https://www.tensorflow.org/api_docs/python/tf/layers/conv2d), you would want to use the TF Neural Network version of `conv2d`, [tf.nn.conv2d](https://www.tensorflow.org/api_docs/python/tf/nn/conv2d). \n",
    "\n",
    "Let's begin!\n",
    "\n",
    "### Input\n",
    "The neural network needs to read the image data, one-hot encoded labels, and dropout keep probability. Implement the following functions\n",
    "* Implement `neural_net_image_input`\n",
    " * Return a [TF Placeholder](https://www.tensorflow.org/api_docs/python/tf/placeholder)\n",
    " * Set the shape using `image_shape` with batch size set to `None`.\n",
    " * Name the TensorFlow placeholder \"x\" using the TensorFlow `name` parameter in the [TF Placeholder](https://www.tensorflow.org/api_docs/python/tf/placeholder).\n",
    "* Implement `neural_net_label_input`\n",
    " * Return a [TF Placeholder](https://www.tensorflow.org/api_docs/python/tf/placeholder)\n",
    " * Set the shape using `n_classes` with batch size set to `None`.\n",
    " * Name the TensorFlow placeholder \"y\" using the TensorFlow `name` parameter in the [TF Placeholder](https://www.tensorflow.org/api_docs/python/tf/placeholder).\n",
    "* Implement `neural_net_keep_prob_input`\n",
    " * Return a [TF Placeholder](https://www.tensorflow.org/api_docs/python/tf/placeholder) for dropout keep probability.\n",
    " * Name the TensorFlow placeholder \"keep_prob\" using the TensorFlow `name` parameter in the [TF Placeholder](https://www.tensorflow.org/api_docs/python/tf/placeholder).\n",
    "\n",
    "These names will be used at the end of the project to load your saved model.\n",
    "\n",
    "Note: `None` for shapes in TensorFlow allow for a dynamic size."
   ]
  },
  {
   "cell_type": "code",
   "execution_count": 8,
   "metadata": {
    "collapsed": false,
    "deletable": true,
    "editable": true
   },
   "outputs": [
    {
     "name": "stdout",
     "output_type": "stream",
     "text": [
      "Image Input Tests Passed.\n",
      "Label Input Tests Passed.\n",
      "Keep Prob Tests Passed.\n"
     ]
    }
   ],
   "source": [
    "import tensorflow as tf\n",
    "\n",
    "def neural_net_image_input(image_shape):\n",
    "    \"\"\"\n",
    "    Return a Tensor for a batch of image input\n",
    "    : image_shape: Shape of the images\n",
    "    : return: Tensor for image input.\n",
    "    \"\"\"\n",
    "    return tf.placeholder(tf.float32, shape=(None, image_shape[0], image_shape[1], image_shape[2]), name=\"x\")\n",
    "\n",
    "def neural_net_label_input(n_classes):\n",
    "    \"\"\"\n",
    "    Return a Tensor for a batch of label input\n",
    "    : n_classes: Number of classes\n",
    "    : return: Tensor for label input.\n",
    "    \"\"\"\n",
    "    return tf.placeholder(tf.float32, shape=(None, n_classes), name=\"y\")\n",
    "\n",
    "\n",
    "def neural_net_keep_prob_input():\n",
    "    \"\"\"\n",
    "    Return a Tensor for keep probability\n",
    "    : return: Tensor for keep probability.\n",
    "    \"\"\"\n",
    "    return tf.placeholder(tf.float32, name=\"keep_prob\")\n",
    "\n",
    "\n",
    "\"\"\"\n",
    "DON'T MODIFY ANYTHING IN THIS CELL THAT IS BELOW THIS LINE\n",
    "\"\"\"\n",
    "tf.reset_default_graph()\n",
    "tests.test_nn_image_inputs(neural_net_image_input)\n",
    "tests.test_nn_label_inputs(neural_net_label_input)\n",
    "tests.test_nn_keep_prob_inputs(neural_net_keep_prob_input)"
   ]
  },
  {
   "cell_type": "markdown",
   "metadata": {
    "deletable": true,
    "editable": true
   },
   "source": [
    "### Convolution and Max Pooling Layer\n",
    "Convolution layers have a lot of success with images. For this code cell, you should implement the function `conv2d_maxpool` to apply convolution then max pooling:\n",
    "* Create the weight and bias using `conv_ksize`, `conv_num_outputs` and the shape of `x_tensor`.\n",
    "* Apply a convolution to `x_tensor` using weight and `conv_strides`.\n",
    " * We recommend you use same padding, but you're welcome to use any padding.\n",
    "* Add bias\n",
    "* Add a nonlinear activation to the convolution.\n",
    "* Apply Max Pooling using `pool_ksize` and `pool_strides`.\n",
    " * We recommend you use same padding, but you're welcome to use any padding.\n",
    "\n",
    "**Note:** You **can't** use [TensorFlow Layers](https://www.tensorflow.org/api_docs/python/tf/layers) or [TensorFlow Layers (contrib)](https://www.tensorflow.org/api_guides/python/contrib.layers) for **this** layer, but you can still use TensorFlow's [Neural Network](https://www.tensorflow.org/api_docs/python/tf/nn) package. You may still use the shortcut option for all the **other** layers."
   ]
  },
  {
   "cell_type": "code",
   "execution_count": 9,
   "metadata": {
    "collapsed": false,
    "deletable": true,
    "editable": true
   },
   "outputs": [
    {
     "name": "stdout",
     "output_type": "stream",
     "text": [
      "Tests Passed\n"
     ]
    }
   ],
   "source": [
    "def conv2d_maxpool(x_tensor, conv_num_outputs, conv_ksize, conv_strides, pool_ksize, pool_strides):\n",
    "    \"\"\"\n",
    "    Apply convolution then max pooling to x_tensor\n",
    "    :param x_tensor: TensorFlow Tensor\n",
    "    :param conv_num_outputs: Number of outputs for the convolutional layer\n",
    "    :param conv_ksize: kernal size 2-D Tuple for the convolutional layer\n",
    "    :param conv_strides: Stride 2-D Tuple for convolution\n",
    "    :param pool_ksize: kernal size 2-D Tuple for pool\n",
    "    :param pool_strides: Stride 2-D Tuple for pool\n",
    "    : return: A tensor that represents convolution and max pooling of x_tensor\n",
    "    \"\"\"\n",
    "    filter_weights = tf.Variable(tf.truncated_normal((conv_ksize[0], conv_ksize[0], x_tensor.get_shape().as_list()[3], conv_num_outputs), mean=0.0, stddev=0.05))\n",
    "    \n",
    "    filter_bias = tf.Variable(tf.zeros(conv_num_outputs))\n",
    "    strides = [1, conv_strides[0], conv_strides[1], 1]\n",
    "    padding = 'SAME'\n",
    "    \n",
    "    conv = tf.nn.conv2d(x_tensor, filter_weights, strides, padding)\n",
    "    conv = tf.nn.bias_add(conv, filter_bias)\n",
    "    conv = tf.nn.relu(conv)\n",
    "    \n",
    "    max_pool_ksize = [1, pool_ksize[0], pool_ksize[1], 1]\n",
    "    max_pool_strides = [1, pool_strides[0], pool_strides[1], 1]\n",
    "    \n",
    "    conv = tf.nn.max_pool(conv, max_pool_ksize, max_pool_strides, padding)\n",
    "    \n",
    "    return conv \n",
    "\n",
    "\"\"\"\n",
    "DON'T MODIFY ANYTHING IN THIS CELL THAT IS BELOW THIS LINE\n",
    "\"\"\"\n",
    "tests.test_con_pool(conv2d_maxpool)"
   ]
  },
  {
   "cell_type": "markdown",
   "metadata": {
    "deletable": true,
    "editable": true
   },
   "source": [
    "### Flatten Layer\n",
    "Implement the `flatten` function to change the dimension of `x_tensor` from a 4-D tensor to a 2-D tensor.  The output should be the shape (*Batch Size*, *Flattened Image Size*). Shortcut option: you can use classes from the [TensorFlow Layers](https://www.tensorflow.org/api_docs/python/tf/layers) or [TensorFlow Layers (contrib)](https://www.tensorflow.org/api_guides/python/contrib.layers) packages for this layer. For more of a challenge, only use other TensorFlow packages."
   ]
  },
  {
   "cell_type": "code",
   "execution_count": 10,
   "metadata": {
    "collapsed": false,
    "deletable": true,
    "editable": true
   },
   "outputs": [
    {
     "name": "stdout",
     "output_type": "stream",
     "text": [
      "Tests Passed\n"
     ]
    }
   ],
   "source": [
    "def flatten(x_tensor):\n",
    "    \"\"\"\n",
    "    Flatten x_tensor to (Batch Size, Flattened Image Size)\n",
    "    : x_tensor: A tensor of size (Batch Size, ...), where ... are the image dimensions.\n",
    "    : return: A tensor of size (Batch Size, Flattened Image Size).\n",
    "    \"\"\"\n",
    "    num_features = x_tensor.get_shape()[1:4].num_elements()\n",
    "    flattened = tf.reshape(x_tensor, [-1, num_features])\n",
    "    return flattened\n",
    "\n",
    "\n",
    "\"\"\"\n",
    "DON'T MODIFY ANYTHING IN THIS CELL THAT IS BELOW THIS LINE\n",
    "\"\"\"\n",
    "tests.test_flatten(flatten)"
   ]
  },
  {
   "cell_type": "markdown",
   "metadata": {
    "deletable": true,
    "editable": true
   },
   "source": [
    "### Fully-Connected Layer\n",
    "Implement the `fully_conn` function to apply a fully connected layer to `x_tensor` with the shape (*Batch Size*, *num_outputs*). Shortcut option: you can use classes from the [TensorFlow Layers](https://www.tensorflow.org/api_docs/python/tf/layers) or [TensorFlow Layers (contrib)](https://www.tensorflow.org/api_guides/python/contrib.layers) packages for this layer. For more of a challenge, only use other TensorFlow packages."
   ]
  },
  {
   "cell_type": "code",
   "execution_count": 11,
   "metadata": {
    "collapsed": false,
    "deletable": true,
    "editable": true
   },
   "outputs": [
    {
     "name": "stdout",
     "output_type": "stream",
     "text": [
      "Tests Passed\n"
     ]
    }
   ],
   "source": [
    "def fully_conn(x_tensor, num_outputs):\n",
    "    \"\"\"\n",
    "    Apply a fully connected layer to x_tensor using weight and bias\n",
    "    : x_tensor: A 2-D tensor where the first dimension is batch size.\n",
    "    : num_outputs: The number of output that the new tensor should be.\n",
    "    : return: A 2-D tensor where the second dimension is num_outputs.\n",
    "    \"\"\"\n",
    "\n",
    "    shape_list = x_tensor.get_shape().as_list()\n",
    "    weights = tf.Variable(tf.truncated_normal((shape_list[1], num_outputs), mean=0.0, stddev=0.05))\n",
    "    bias = tf.Variable(tf.zeros(num_outputs))\n",
    "    fully_connected = tf.matmul(x_tensor, weights) + bias\n",
    "    \n",
    "    # should I be applying an activation function here or no? it passes either way...\n",
    "    return tf.nn.relu(fully_connected)\n",
    "\n",
    "\n",
    "\"\"\"\n",
    "DON'T MODIFY ANYTHING IN THIS CELL THAT IS BELOW THIS LINE\n",
    "\"\"\"\n",
    "tests.test_fully_conn(fully_conn)"
   ]
  },
  {
   "cell_type": "markdown",
   "metadata": {
    "deletable": true,
    "editable": true
   },
   "source": [
    "### Output Layer\n",
    "Implement the `output` function to apply a fully connected layer to `x_tensor` with the shape (*Batch Size*, *num_outputs*). Shortcut option: you can use classes from the [TensorFlow Layers](https://www.tensorflow.org/api_docs/python/tf/layers) or [TensorFlow Layers (contrib)](https://www.tensorflow.org/api_guides/python/contrib.layers) packages for this layer. For more of a challenge, only use other TensorFlow packages.\n",
    "\n",
    "**Note:** Activation, softmax, or cross entropy should **not** be applied to this."
   ]
  },
  {
   "cell_type": "code",
   "execution_count": 20,
   "metadata": {
    "collapsed": false,
    "deletable": true,
    "editable": true
   },
   "outputs": [
    {
     "name": "stdout",
     "output_type": "stream",
     "text": [
      "Tests Passed\n"
     ]
    }
   ],
   "source": [
    "def output(x_tensor, num_outputs):\n",
    "    \"\"\"\n",
    "    Apply a output layer to x_tensor using weight and bias\n",
    "    : x_tensor: A 2-D tensor where the first dimension is batch size.\n",
    "    : num_outputs: The number of output that the new tensor should be.\n",
    "    : return: A 2-D tensor where the second dimension is num_outputs.\n",
    "    \"\"\"\n",
    "    shape_list = x_tensor.get_shape().as_list()\n",
    "    weights = tf.Variable(tf.truncated_normal((shape_list[1], num_outputs), mean=0.0, stddev=0.05))\n",
    "    bias = tf.Variable(tf.zeros(num_outputs))\n",
    "    fully_connected = tf.matmul(x_tensor, weights) + bias\n",
    "    \n",
    "    # return without the activation here\n",
    "    return fully_connected\n",
    "\n",
    "\n",
    "\"\"\"\n",
    "DON'T MODIFY ANYTHING IN THIS CELL THAT IS BELOW THIS LINE\n",
    "\"\"\"\n",
    "tests.test_output(output)"
   ]
  },
  {
   "cell_type": "markdown",
   "metadata": {
    "deletable": true,
    "editable": true
   },
   "source": [
    "### Create Convolutional Model\n",
    "Implement the function `conv_net` to create a convolutional neural network model. The function takes in a batch of images, `x`, and outputs logits.  Use the layers you created above to create this model:\n",
    "\n",
    "* Apply 1, 2, or 3 Convolution and Max Pool layers\n",
    "* Apply a Flatten Layer\n",
    "* Apply 1, 2, or 3 Fully Connected Layers\n",
    "* Apply an Output Layer\n",
    "* Return the output\n",
    "* Apply [TensorFlow's Dropout](https://www.tensorflow.org/api_docs/python/tf/nn/dropout) to one or more layers in the model using `keep_prob`. "
   ]
  },
  {
   "cell_type": "code",
   "execution_count": 21,
   "metadata": {
    "collapsed": false,
    "deletable": true,
    "editable": true
   },
   "outputs": [
    {
     "name": "stdout",
     "output_type": "stream",
     "text": [
      "Neural Network Built!\n"
     ]
    }
   ],
   "source": [
    "def conv_net(x, keep_prob):\n",
    "    \"\"\"\n",
    "    Create a convolutional neural network model\n",
    "    : x: Placeholder tensor that holds image data.\n",
    "    : keep_prob: Placeholder tensor that hold dropout keep probability.\n",
    "    : return: Tensor that represents logits\n",
    "    \"\"\"\n",
    "    # TODO: Apply 1, 2, or 3 Convolution and Max Pool layers\n",
    "    #    Play around with different number of outputs, kernel size and stride\n",
    "    # Function Definition from Above:\n",
    "    #    conv2d_maxpool(x_tensor, conv_num_outputs, conv_ksize, conv_strides, pool_ksize, pool_strides)\n",
    "    x = conv2d_maxpool(x, 16, (4, 4), (1, 1), (2, 2), (2, 2))\n",
    "    x = tf.nn.dropout(x, 0.8)\n",
    "    x = conv2d_maxpool(x, 24, (4, 4), (1, 1), (2, 2), (2, 2))\n",
    "    x = tf.nn.dropout(x, 0.8)\n",
    "    x = conv2d_maxpool(x, 32, (4, 4), (1, 1), (2, 2), (2, 2))\n",
    "    x = tf.nn.dropout(x, 0.8)\n",
    "\n",
    "    # TODO: Apply a Flatten Layer\n",
    "    # Function Definition from Above:\n",
    "    #   flatten(x_tensor)\n",
    "    x = flatten(x)\n",
    "\n",
    "    # TODO: Apply 1, 2, or 3 Fully Connected Layers\n",
    "    #    Play around with different number of outputs\n",
    "    # Function Definition from Above:\n",
    "    #   fully_conn(x_tensor, num_outputs)\n",
    "    x = fully_conn(x, 128)\n",
    "    x = tf.nn.dropout(x, 0.8)\n",
    "    x = fully_conn(x, 64)\n",
    "    x = tf.nn.dropout(x, 0.8)\n",
    "    \n",
    "    \n",
    "    # TODO: Apply an Output Layer\n",
    "    #    Set this to the number of classes\n",
    "    # Function Definition from Above:\n",
    "    #   output(x_tensor, num_outputs)\n",
    "    \n",
    "    return output(x, 10)\n",
    "\n",
    "\n",
    "\"\"\"\n",
    "DON'T MODIFY ANYTHING IN THIS CELL THAT IS BELOW THIS LINE\n",
    "\"\"\"\n",
    "\n",
    "##############################\n",
    "## Build the Neural Network ##\n",
    "##############################\n",
    "\n",
    "# Remove previous weights, bias, inputs, etc..\n",
    "tf.reset_default_graph()\n",
    "\n",
    "# Inputs\n",
    "x = neural_net_image_input((32, 32, 3))\n",
    "y = neural_net_label_input(10)\n",
    "keep_prob = neural_net_keep_prob_input()\n",
    "\n",
    "# Model\n",
    "logits = conv_net(x, keep_prob)\n",
    "\n",
    "# Name logits Tensor, so that is can be loaded from disk after training\n",
    "logits = tf.identity(logits, name='logits')\n",
    "\n",
    "# Loss and Optimizer\n",
    "cost = tf.reduce_mean(tf.nn.softmax_cross_entropy_with_logits(logits=logits, labels=y))\n",
    "optimizer = tf.train.AdamOptimizer().minimize(cost)\n",
    "\n",
    "# Accuracy\n",
    "correct_pred = tf.equal(tf.argmax(logits, 1), tf.argmax(y, 1))\n",
    "accuracy = tf.reduce_mean(tf.cast(correct_pred, tf.float32), name='accuracy')\n",
    "\n",
    "tests.test_conv_net(conv_net)"
   ]
  },
  {
   "cell_type": "markdown",
   "metadata": {
    "deletable": true,
    "editable": true
   },
   "source": [
    "## Train the Neural Network\n",
    "### Single Optimization\n",
    "Implement the function `train_neural_network` to do a single optimization.  The optimization should use `optimizer` to optimize in `session` with a `feed_dict` of the following:\n",
    "* `x` for image input\n",
    "* `y` for labels\n",
    "* `keep_prob` for keep probability for dropout\n",
    "\n",
    "This function will be called for each batch, so `tf.global_variables_initializer()` has already been called.\n",
    "\n",
    "Note: Nothing needs to be returned. This function is only optimizing the neural network."
   ]
  },
  {
   "cell_type": "code",
   "execution_count": 22,
   "metadata": {
    "collapsed": false,
    "deletable": true,
    "editable": true
   },
   "outputs": [
    {
     "name": "stdout",
     "output_type": "stream",
     "text": [
      "Tests Passed\n"
     ]
    }
   ],
   "source": [
    "def train_neural_network(session, optimizer, keep_probability, feature_batch, label_batch):\n",
    "    \"\"\"\n",
    "    Optimize the session on a batch of images and labels\n",
    "    : session: Current TensorFlow session\n",
    "    : optimizer: TensorFlow optimizer function\n",
    "    : keep_probability: keep probability\n",
    "    : feature_batch: Batch of Numpy image data\n",
    "    : label_batch: Batch of Numpy label data\n",
    "    \"\"\"\n",
    "    session.run(optimizer, feed_dict={x:feature_batch, y:label_batch, keep_prob: keep_probability})\n",
    "\n",
    "\"\"\"\n",
    "DON'T MODIFY ANYTHING IN THIS CELL THAT IS BELOW THIS LINE\n",
    "\"\"\"\n",
    "tests.test_train_nn(train_neural_network)"
   ]
  },
  {
   "cell_type": "markdown",
   "metadata": {
    "deletable": true,
    "editable": true
   },
   "source": [
    "### Show Stats\n",
    "Implement the function `print_stats` to print loss and validation accuracy.  Use the global variables `valid_features` and `valid_labels` to calculate validation accuracy.  Use a keep probability of `1.0` to calculate the loss and validation accuracy."
   ]
  },
  {
   "cell_type": "code",
   "execution_count": 15,
   "metadata": {
    "collapsed": true,
    "deletable": true,
    "editable": true
   },
   "outputs": [],
   "source": [
    "def print_stats(session, feature_batch, label_batch, cost, accuracy):\n",
    "    \"\"\"\n",
    "    Print information about loss and validation accuracy\n",
    "    : session: Current TensorFlow session\n",
    "    : feature_batch: Batch of Numpy image data\n",
    "    : label_batch: Batch of Numpy label data\n",
    "    : cost: TensorFlow cost function\n",
    "    : accuracy: TensorFlow accuracy function\n",
    "    \"\"\"\n",
    "    cost_stat = session.run(cost, {x:valid_features, y:valid_labels, keep_prob: 1.0})\n",
    "    accuracy_stat = session.run(accuracy, {x:valid_features, y:valid_labels, keep_prob: 1.0})\n",
    "\n",
    "    print(\"Loss: {0:>6}, Accuracy: {1:>6.1%}\".format(cost_stat, accuracy_stat))\n",
    "    \n"
   ]
  },
  {
   "cell_type": "markdown",
   "metadata": {
    "deletable": true,
    "editable": true
   },
   "source": [
    "### Hyperparameters\n",
    "Tune the following parameters:\n",
    "* Set `epochs` to the number of iterations until the network stops learning or start overfitting\n",
    "* Set `batch_size` to the highest number that your machine has memory for.  Most people set them to common sizes of memory:\n",
    " * 64\n",
    " * 128\n",
    " * 256\n",
    " * ...\n",
    "* Set `keep_probability` to the probability of keeping a node using dropout"
   ]
  },
  {
   "cell_type": "code",
   "execution_count": 29,
   "metadata": {
    "collapsed": true,
    "deletable": true,
    "editable": true
   },
   "outputs": [],
   "source": [
    "# TODO: Tune Parameters\n",
    "epochs = 50\n",
    "batch_size = 256\n",
    "keep_probability = 0.6"
   ]
  },
  {
   "cell_type": "markdown",
   "metadata": {
    "deletable": true,
    "editable": true
   },
   "source": [
    "### Train on a Single CIFAR-10 Batch\n",
    "Instead of training the neural network on all the CIFAR-10 batches of data, let's use a single batch. This should save time while you iterate on the model to get a better accuracy.  Once the final validation accuracy is 50% or greater, run the model on all the data in the next section."
   ]
  },
  {
   "cell_type": "code",
   "execution_count": 30,
   "metadata": {
    "collapsed": false,
    "deletable": true,
    "editable": true
   },
   "outputs": [
    {
     "name": "stdout",
     "output_type": "stream",
     "text": [
      "Checking the Training on a Single Batch...\n",
      "Epoch  1, CIFAR-10 Batch 1:  Loss: 2.1764309406280518, Accuracy:  17.0%\n",
      "Epoch  2, CIFAR-10 Batch 1:  Loss: 2.0723602771759033, Accuracy:  21.5%\n",
      "Epoch  3, CIFAR-10 Batch 1:  Loss: 2.0365705490112305, Accuracy:  22.6%\n",
      "Epoch  4, CIFAR-10 Batch 1:  Loss: 1.9541866779327393, Accuracy:  25.8%\n",
      "Epoch  5, CIFAR-10 Batch 1:  Loss: 1.9200632572174072, Accuracy:  27.3%\n",
      "Epoch  6, CIFAR-10 Batch 1:  Loss: 1.7965961694717407, Accuracy:  32.8%\n",
      "Epoch  7, CIFAR-10 Batch 1:  Loss: 1.7813432216644287, Accuracy:  33.2%\n",
      "Epoch  8, CIFAR-10 Batch 1:  Loss: 1.7186332941055298, Accuracy:  35.5%\n",
      "Epoch  9, CIFAR-10 Batch 1:  Loss: 1.6902189254760742, Accuracy:  36.8%\n",
      "Epoch 10, CIFAR-10 Batch 1:  Loss: 1.656054973602295, Accuracy:  37.9%\n",
      "Epoch 11, CIFAR-10 Batch 1:  Loss: 1.6321848630905151, Accuracy:  39.0%\n",
      "Epoch 12, CIFAR-10 Batch 1:  Loss: 1.6467745304107666, Accuracy:  38.0%\n",
      "Epoch 13, CIFAR-10 Batch 1:  Loss: 1.6041795015335083, Accuracy:  40.7%\n",
      "Epoch 14, CIFAR-10 Batch 1:  Loss: 1.6435672044754028, Accuracy:  40.1%\n",
      "Epoch 15, CIFAR-10 Batch 1:  Loss: 1.583892822265625, Accuracy:  40.9%\n",
      "Epoch 16, CIFAR-10 Batch 1:  Loss: 1.6261094808578491, Accuracy:  40.1%\n",
      "Epoch 17, CIFAR-10 Batch 1:  Loss: 1.5283533334732056, Accuracy:  43.0%\n",
      "Epoch 18, CIFAR-10 Batch 1:  Loss: 1.5211422443389893, Accuracy:  43.8%\n",
      "Epoch 19, CIFAR-10 Batch 1:  Loss: 1.5169358253479004, Accuracy:  43.7%\n",
      "Epoch 20, CIFAR-10 Batch 1:  Loss: 1.5057809352874756, Accuracy:  44.6%\n",
      "Epoch 21, CIFAR-10 Batch 1:  Loss: 1.5113856792449951, Accuracy:  45.1%\n",
      "Epoch 22, CIFAR-10 Batch 1:  Loss: 1.5112533569335938, Accuracy:  45.4%\n",
      "Epoch 23, CIFAR-10 Batch 1:  Loss: 1.4845222234725952, Accuracy:  44.8%\n",
      "Epoch 24, CIFAR-10 Batch 1:  Loss: 1.4744586944580078, Accuracy:  45.5%\n",
      "Epoch 25, CIFAR-10 Batch 1:  Loss: 1.4903085231781006, Accuracy:  45.0%\n",
      "Epoch 26, CIFAR-10 Batch 1:  Loss: 1.461652159690857, Accuracy:  46.3%\n",
      "Epoch 27, CIFAR-10 Batch 1:  Loss: 1.443314552307129, Accuracy:  46.3%\n",
      "Epoch 28, CIFAR-10 Batch 1:  Loss: 1.4512659311294556, Accuracy:  47.1%\n",
      "Epoch 29, CIFAR-10 Batch 1:  Loss: 1.4469106197357178, Accuracy:  48.4%\n",
      "Epoch 30, CIFAR-10 Batch 1:  Loss: 1.4257198572158813, Accuracy:  47.8%\n",
      "Epoch 31, CIFAR-10 Batch 1:  Loss: 1.4167797565460205, Accuracy:  48.6%\n",
      "Epoch 32, CIFAR-10 Batch 1:  Loss: 1.4025561809539795, Accuracy:  49.1%\n",
      "Epoch 33, CIFAR-10 Batch 1:  Loss: 1.4083819389343262, Accuracy:  48.8%\n",
      "Epoch 34, CIFAR-10 Batch 1:  Loss: 1.4021759033203125, Accuracy:  48.9%\n",
      "Epoch 35, CIFAR-10 Batch 1:  Loss: 1.4095237255096436, Accuracy:  48.0%\n",
      "Epoch 36, CIFAR-10 Batch 1:  Loss: 1.3835004568099976, Accuracy:  49.8%\n",
      "Epoch 37, CIFAR-10 Batch 1:  Loss: 1.4197609424591064, Accuracy:  48.5%\n",
      "Epoch 38, CIFAR-10 Batch 1:  Loss: 1.3953838348388672, Accuracy:  49.6%\n",
      "Epoch 39, CIFAR-10 Batch 1:  Loss: 1.4203425645828247, Accuracy:  48.9%\n",
      "Epoch 40, CIFAR-10 Batch 1:  Loss: 1.396981954574585, Accuracy:  49.7%\n",
      "Epoch 41, CIFAR-10 Batch 1:  Loss: 1.4184727668762207, Accuracy:  48.5%\n",
      "Epoch 42, CIFAR-10 Batch 1:  Loss: 1.4350436925888062, Accuracy:  47.8%\n",
      "Epoch 43, CIFAR-10 Batch 1:  Loss: 1.3842660188674927, Accuracy:  50.2%\n",
      "Epoch 44, CIFAR-10 Batch 1:  Loss: 1.3908922672271729, Accuracy:  50.1%\n",
      "Epoch 45, CIFAR-10 Batch 1:  Loss: 1.4181067943572998, Accuracy:  49.4%\n",
      "Epoch 46, CIFAR-10 Batch 1:  Loss: 1.3869425058364868, Accuracy:  50.3%\n",
      "Epoch 47, CIFAR-10 Batch 1:  Loss: 1.4200843572616577, Accuracy:  49.0%\n",
      "Epoch 48, CIFAR-10 Batch 1:  Loss: 1.3589515686035156, Accuracy:  50.2%\n",
      "Epoch 49, CIFAR-10 Batch 1:  Loss: 1.4330936670303345, Accuracy:  49.8%\n",
      "Epoch 50, CIFAR-10 Batch 1:  Loss: 1.3969013690948486, Accuracy:  50.4%\n"
     ]
    }
   ],
   "source": [
    "\"\"\"\n",
    "DON'T MODIFY ANYTHING IN THIS CELL\n",
    "\"\"\"\n",
    "print('Checking the Training on a Single Batch...')\n",
    "with tf.Session() as sess:\n",
    "    # Initializing the variables\n",
    "    sess.run(tf.global_variables_initializer())\n",
    "    \n",
    "    # Training cycle\n",
    "    for epoch in range(epochs):\n",
    "        batch_i = 1\n",
    "        for batch_features, batch_labels in helper.load_preprocess_training_batch(batch_i, batch_size):\n",
    "            train_neural_network(sess, optimizer, keep_probability, batch_features, batch_labels)\n",
    "        print('Epoch {:>2}, CIFAR-10 Batch {}:  '.format(epoch + 1, batch_i), end='')\n",
    "        print_stats(sess, batch_features, batch_labels, cost, accuracy)"
   ]
  },
  {
   "cell_type": "markdown",
   "metadata": {
    "deletable": true,
    "editable": true
   },
   "source": [
    "### Fully Train the Model\n",
    "Now that you got a good accuracy with a single CIFAR-10 batch, try it with all five batches."
   ]
  },
  {
   "cell_type": "code",
   "execution_count": 31,
   "metadata": {
    "collapsed": false,
    "deletable": true,
    "editable": true
   },
   "outputs": [
    {
     "name": "stdout",
     "output_type": "stream",
     "text": [
      "Training...\n",
      "Epoch  1, CIFAR-10 Batch 1:  Loss: 2.274379253387451, Accuracy:  12.2%\n",
      "Epoch  1, CIFAR-10 Batch 2:  Loss: 2.0548808574676514, Accuracy:  23.2%\n",
      "Epoch  1, CIFAR-10 Batch 3:  Loss: 1.9895894527435303, Accuracy:  25.6%\n",
      "Epoch  1, CIFAR-10 Batch 4:  Loss: 1.9187177419662476, Accuracy:  26.7%\n",
      "Epoch  1, CIFAR-10 Batch 5:  Loss: 1.8155604600906372, Accuracy:  31.1%\n",
      "Epoch  2, CIFAR-10 Batch 1:  Loss: 1.7699813842773438, Accuracy:  33.2%\n",
      "Epoch  2, CIFAR-10 Batch 2:  Loss: 1.7311400175094604, Accuracy:  34.2%\n",
      "Epoch  2, CIFAR-10 Batch 3:  Loss: 1.7900512218475342, Accuracy:  33.6%\n",
      "Epoch  2, CIFAR-10 Batch 4:  Loss: 1.6913304328918457, Accuracy:  37.1%\n",
      "Epoch  2, CIFAR-10 Batch 5:  Loss: 1.7071809768676758, Accuracy:  36.8%\n",
      "Epoch  3, CIFAR-10 Batch 1:  Loss: 1.65028715133667, Accuracy:  38.9%\n",
      "Epoch  3, CIFAR-10 Batch 2:  Loss: 1.6181889772415161, Accuracy:  40.6%\n",
      "Epoch  3, CIFAR-10 Batch 3:  Loss: 1.6582906246185303, Accuracy:  39.1%\n",
      "Epoch  3, CIFAR-10 Batch 4:  Loss: 1.567472219467163, Accuracy:  42.0%\n",
      "Epoch  3, CIFAR-10 Batch 5:  Loss: 1.5377060174942017, Accuracy:  43.5%\n",
      "Epoch  4, CIFAR-10 Batch 1:  Loss: 1.5454561710357666, Accuracy:  43.1%\n",
      "Epoch  4, CIFAR-10 Batch 2:  Loss: 1.5910351276397705, Accuracy:  42.0%\n",
      "Epoch  4, CIFAR-10 Batch 3:  Loss: 1.5324838161468506, Accuracy:  43.6%\n",
      "Epoch  4, CIFAR-10 Batch 4:  Loss: 1.512519121170044, Accuracy:  44.0%\n",
      "Epoch  4, CIFAR-10 Batch 5:  Loss: 1.4661558866500854, Accuracy:  45.9%\n",
      "Epoch  5, CIFAR-10 Batch 1:  Loss: 1.4623265266418457, Accuracy:  46.3%\n",
      "Epoch  5, CIFAR-10 Batch 2:  Loss: 1.46639084815979, Accuracy:  46.1%\n",
      "Epoch  5, CIFAR-10 Batch 3:  Loss: 1.4867041110992432, Accuracy:  46.4%\n",
      "Epoch  5, CIFAR-10 Batch 4:  Loss: 1.4463955163955688, Accuracy:  47.8%\n",
      "Epoch  5, CIFAR-10 Batch 5:  Loss: 1.4280836582183838, Accuracy:  47.6%\n",
      "Epoch  6, CIFAR-10 Batch 1:  Loss: 1.4015802145004272, Accuracy:  48.2%\n",
      "Epoch  6, CIFAR-10 Batch 2:  Loss: 1.3999254703521729, Accuracy:  48.5%\n",
      "Epoch  6, CIFAR-10 Batch 3:  Loss: 1.4369113445281982, Accuracy:  48.6%\n",
      "Epoch  6, CIFAR-10 Batch 4:  Loss: 1.4421806335449219, Accuracy:  48.3%\n",
      "Epoch  6, CIFAR-10 Batch 5:  Loss: 1.367668867111206, Accuracy:  49.5%\n",
      "Epoch  7, CIFAR-10 Batch 1:  Loss: 1.3715465068817139, Accuracy:  49.0%\n",
      "Epoch  7, CIFAR-10 Batch 2:  Loss: 1.4239134788513184, Accuracy:  47.6%\n",
      "Epoch  7, CIFAR-10 Batch 3:  Loss: 1.376173734664917, Accuracy:  49.5%\n",
      "Epoch  7, CIFAR-10 Batch 4:  Loss: 1.3580691814422607, Accuracy:  49.9%\n",
      "Epoch  7, CIFAR-10 Batch 5:  Loss: 1.3651888370513916, Accuracy:  50.0%\n",
      "Epoch  8, CIFAR-10 Batch 1:  Loss: 1.3276443481445312, Accuracy:  50.6%\n",
      "Epoch  8, CIFAR-10 Batch 2:  Loss: 1.446298360824585, Accuracy:  48.1%\n",
      "Epoch  8, CIFAR-10 Batch 3:  Loss: 1.3219157457351685, Accuracy:  51.9%\n",
      "Epoch  8, CIFAR-10 Batch 4:  Loss: 1.3472217321395874, Accuracy:  52.0%\n",
      "Epoch  8, CIFAR-10 Batch 5:  Loss: 1.3559907674789429, Accuracy:  51.5%\n",
      "Epoch  9, CIFAR-10 Batch 1:  Loss: 1.3243684768676758, Accuracy:  52.5%\n",
      "Epoch  9, CIFAR-10 Batch 2:  Loss: 1.3187987804412842, Accuracy:  51.5%\n",
      "Epoch  9, CIFAR-10 Batch 3:  Loss: 1.3040828704833984, Accuracy:  52.8%\n",
      "Epoch  9, CIFAR-10 Batch 4:  Loss: 1.2741737365722656, Accuracy:  53.5%\n",
      "Epoch  9, CIFAR-10 Batch 5:  Loss: 1.318668246269226, Accuracy:  52.3%\n",
      "Epoch 10, CIFAR-10 Batch 1:  Loss: 1.274916648864746, Accuracy:  52.2%\n",
      "Epoch 10, CIFAR-10 Batch 2:  Loss: 1.2998933792114258, Accuracy:  53.4%\n",
      "Epoch 10, CIFAR-10 Batch 3:  Loss: 1.2556748390197754, Accuracy:  55.2%\n",
      "Epoch 10, CIFAR-10 Batch 4:  Loss: 1.2526087760925293, Accuracy:  55.3%\n",
      "Epoch 10, CIFAR-10 Batch 5:  Loss: 1.3025906085968018, Accuracy:  52.8%\n",
      "Epoch 11, CIFAR-10 Batch 1:  Loss: 1.2734302282333374, Accuracy:  54.7%\n",
      "Epoch 11, CIFAR-10 Batch 2:  Loss: 1.317012071609497, Accuracy:  53.1%\n",
      "Epoch 11, CIFAR-10 Batch 3:  Loss: 1.2455838918685913, Accuracy:  55.4%\n",
      "Epoch 11, CIFAR-10 Batch 4:  Loss: 1.2472310066223145, Accuracy:  54.9%\n",
      "Epoch 11, CIFAR-10 Batch 5:  Loss: 1.2370365858078003, Accuracy:  56.1%\n",
      "Epoch 12, CIFAR-10 Batch 1:  Loss: 1.278676152229309, Accuracy:  53.9%\n",
      "Epoch 12, CIFAR-10 Batch 2:  Loss: 1.2317988872528076, Accuracy:  55.7%\n",
      "Epoch 12, CIFAR-10 Batch 3:  Loss: 1.2124851942062378, Accuracy:  57.2%\n",
      "Epoch 12, CIFAR-10 Batch 4:  Loss: 1.1903843879699707, Accuracy:  56.7%\n",
      "Epoch 12, CIFAR-10 Batch 5:  Loss: 1.249272346496582, Accuracy:  55.4%\n",
      "Epoch 13, CIFAR-10 Batch 1:  Loss: 1.2352765798568726, Accuracy:  56.0%\n",
      "Epoch 13, CIFAR-10 Batch 2:  Loss: 1.202547311782837, Accuracy:  56.1%\n",
      "Epoch 13, CIFAR-10 Batch 3:  Loss: 1.1874704360961914, Accuracy:  57.7%\n",
      "Epoch 13, CIFAR-10 Batch 4:  Loss: 1.1666651964187622, Accuracy:  58.8%\n",
      "Epoch 13, CIFAR-10 Batch 5:  Loss: 1.1943154335021973, Accuracy:  58.0%\n",
      "Epoch 14, CIFAR-10 Batch 1:  Loss: 1.207360863685608, Accuracy:  56.8%\n",
      "Epoch 14, CIFAR-10 Batch 2:  Loss: 1.1758956909179688, Accuracy:  58.3%\n",
      "Epoch 14, CIFAR-10 Batch 3:  Loss: 1.1605119705200195, Accuracy:  57.6%\n",
      "Epoch 14, CIFAR-10 Batch 4:  Loss: 1.1592557430267334, Accuracy:  57.9%\n",
      "Epoch 14, CIFAR-10 Batch 5:  Loss: 1.1579324007034302, Accuracy:  58.1%\n",
      "Epoch 15, CIFAR-10 Batch 1:  Loss: 1.1892169713974, Accuracy:  57.9%\n",
      "Epoch 15, CIFAR-10 Batch 2:  Loss: 1.160320520401001, Accuracy:  58.0%\n",
      "Epoch 15, CIFAR-10 Batch 3:  Loss: 1.1421352624893188, Accuracy:  58.1%\n",
      "Epoch 15, CIFAR-10 Batch 4:  Loss: 1.1509264707565308, Accuracy:  59.6%\n",
      "Epoch 15, CIFAR-10 Batch 5:  Loss: 1.1623750925064087, Accuracy:  58.2%\n",
      "Epoch 16, CIFAR-10 Batch 1:  Loss: 1.1628093719482422, Accuracy:  58.5%\n",
      "Epoch 16, CIFAR-10 Batch 2:  Loss: 1.1250097751617432, Accuracy:  59.7%\n",
      "Epoch 16, CIFAR-10 Batch 3:  Loss: 1.1284661293029785, Accuracy:  59.8%\n",
      "Epoch 16, CIFAR-10 Batch 4:  Loss: 1.1256749629974365, Accuracy:  60.5%\n",
      "Epoch 16, CIFAR-10 Batch 5:  Loss: 1.1166120767593384, Accuracy:  60.1%\n",
      "Epoch 17, CIFAR-10 Batch 1:  Loss: 1.1432276964187622, Accuracy:  60.2%\n",
      "Epoch 17, CIFAR-10 Batch 2:  Loss: 1.128566026687622, Accuracy:  59.7%\n",
      "Epoch 17, CIFAR-10 Batch 3:  Loss: 1.1554672718048096, Accuracy:  60.0%\n",
      "Epoch 17, CIFAR-10 Batch 4:  Loss: 1.1229751110076904, Accuracy:  60.9%\n",
      "Epoch 17, CIFAR-10 Batch 5:  Loss: 1.1297872066497803, Accuracy:  60.6%\n",
      "Epoch 18, CIFAR-10 Batch 1:  Loss: 1.1241743564605713, Accuracy:  60.8%\n",
      "Epoch 18, CIFAR-10 Batch 2:  Loss: 1.10243821144104, Accuracy:  60.6%\n",
      "Epoch 18, CIFAR-10 Batch 3:  Loss: 1.1085937023162842, Accuracy:  60.4%\n",
      "Epoch 18, CIFAR-10 Batch 4:  Loss: 1.1103737354278564, Accuracy:  59.5%\n",
      "Epoch 18, CIFAR-10 Batch 5:  Loss: 1.1062589883804321, Accuracy:  60.6%\n",
      "Epoch 19, CIFAR-10 Batch 1:  Loss: 1.1193002462387085, Accuracy:  61.2%\n",
      "Epoch 19, CIFAR-10 Batch 2:  Loss: 1.1049095392227173, Accuracy:  61.0%\n",
      "Epoch 19, CIFAR-10 Batch 3:  Loss: 1.073207974433899, Accuracy:  62.5%\n",
      "Epoch 19, CIFAR-10 Batch 4:  Loss: 1.0821611881256104, Accuracy:  61.4%\n",
      "Epoch 19, CIFAR-10 Batch 5:  Loss: 1.1082754135131836, Accuracy:  60.8%\n",
      "Epoch 20, CIFAR-10 Batch 1:  Loss: 1.1162341833114624, Accuracy:  61.7%\n",
      "Epoch 20, CIFAR-10 Batch 2:  Loss: 1.1322822570800781, Accuracy:  60.6%\n",
      "Epoch 20, CIFAR-10 Batch 3:  Loss: 1.0877207517623901, Accuracy:  61.8%\n",
      "Epoch 20, CIFAR-10 Batch 4:  Loss: 1.0755152702331543, Accuracy:  62.0%\n",
      "Epoch 20, CIFAR-10 Batch 5:  Loss: 1.082268238067627, Accuracy:  60.7%\n",
      "Epoch 21, CIFAR-10 Batch 1:  Loss: 1.090684175491333, Accuracy:  62.6%\n",
      "Epoch 21, CIFAR-10 Batch 2:  Loss: 1.0850979089736938, Accuracy:  61.5%\n",
      "Epoch 21, CIFAR-10 Batch 3:  Loss: 1.0723754167556763, Accuracy:  62.7%\n",
      "Epoch 21, CIFAR-10 Batch 4:  Loss: 1.0540757179260254, Accuracy:  63.2%\n",
      "Epoch 21, CIFAR-10 Batch 5:  Loss: 1.067049264907837, Accuracy:  62.5%\n",
      "Epoch 22, CIFAR-10 Batch 1:  Loss: 1.0649352073669434, Accuracy:  63.2%\n",
      "Epoch 22, CIFAR-10 Batch 2:  Loss: 1.0988435745239258, Accuracy:  62.1%\n",
      "Epoch 22, CIFAR-10 Batch 3:  Loss: 1.0566638708114624, Accuracy:  63.0%\n",
      "Epoch 22, CIFAR-10 Batch 4:  Loss: 1.076511025428772, Accuracy:  61.9%\n",
      "Epoch 22, CIFAR-10 Batch 5:  Loss: 1.0530872344970703, Accuracy:  62.1%\n",
      "Epoch 23, CIFAR-10 Batch 1:  Loss: 1.062623381614685, Accuracy:  63.2%\n",
      "Epoch 23, CIFAR-10 Batch 2:  Loss: 1.1043384075164795, Accuracy:  61.3%\n",
      "Epoch 23, CIFAR-10 Batch 3:  Loss: 1.0584819316864014, Accuracy:  62.7%\n",
      "Epoch 23, CIFAR-10 Batch 4:  Loss: 1.0303425788879395, Accuracy:  64.4%\n",
      "Epoch 23, CIFAR-10 Batch 5:  Loss: 1.0434269905090332, Accuracy:  63.5%\n",
      "Epoch 24, CIFAR-10 Batch 1:  Loss: 1.0555485486984253, Accuracy:  62.8%\n",
      "Epoch 24, CIFAR-10 Batch 2:  Loss: 1.0736573934555054, Accuracy:  62.8%\n",
      "Epoch 24, CIFAR-10 Batch 3:  Loss: 1.0610277652740479, Accuracy:  63.0%\n",
      "Epoch 24, CIFAR-10 Batch 4:  Loss: 1.0355621576309204, Accuracy:  64.6%\n",
      "Epoch 24, CIFAR-10 Batch 5:  Loss: 1.0266953706741333, Accuracy:  64.1%\n",
      "Epoch 25, CIFAR-10 Batch 1:  Loss: 1.0496959686279297, Accuracy:  63.9%\n",
      "Epoch 25, CIFAR-10 Batch 2:  Loss: 1.0335440635681152, Accuracy:  63.9%\n",
      "Epoch 25, CIFAR-10 Batch 3:  Loss: 1.0768179893493652, Accuracy:  62.7%\n",
      "Epoch 25, CIFAR-10 Batch 4:  Loss: 1.0096533298492432, Accuracy:  63.1%\n",
      "Epoch 25, CIFAR-10 Batch 5:  Loss: 1.0510379076004028, Accuracy:  63.6%\n",
      "Epoch 26, CIFAR-10 Batch 1:  Loss: 1.0539193153381348, Accuracy:  63.5%\n",
      "Epoch 26, CIFAR-10 Batch 2:  Loss: 1.0546269416809082, Accuracy:  62.7%\n",
      "Epoch 26, CIFAR-10 Batch 3:  Loss: 1.01857328414917, Accuracy:  65.3%\n",
      "Epoch 26, CIFAR-10 Batch 4:  Loss: 1.0091100931167603, Accuracy:  65.2%\n",
      "Epoch 26, CIFAR-10 Batch 5:  Loss: 1.0149126052856445, Accuracy:  64.8%\n",
      "Epoch 27, CIFAR-10 Batch 1:  Loss: 1.0279395580291748, Accuracy:  64.6%\n",
      "Epoch 27, CIFAR-10 Batch 2:  Loss: 1.0617914199829102, Accuracy:  63.4%\n",
      "Epoch 27, CIFAR-10 Batch 3:  Loss: 1.0324281454086304, Accuracy:  64.7%\n",
      "Epoch 27, CIFAR-10 Batch 4:  Loss: 1.0110654830932617, Accuracy:  65.1%\n",
      "Epoch 27, CIFAR-10 Batch 5:  Loss: 1.024070143699646, Accuracy:  64.6%\n",
      "Epoch 28, CIFAR-10 Batch 1:  Loss: 1.0297131538391113, Accuracy:  65.3%\n",
      "Epoch 28, CIFAR-10 Batch 2:  Loss: 1.0490238666534424, Accuracy:  64.1%\n",
      "Epoch 28, CIFAR-10 Batch 3:  Loss: 1.032372236251831, Accuracy:  63.8%\n",
      "Epoch 28, CIFAR-10 Batch 4:  Loss: 1.0145142078399658, Accuracy:  64.8%\n",
      "Epoch 28, CIFAR-10 Batch 5:  Loss: 0.9987587928771973, Accuracy:  65.1%\n",
      "Epoch 29, CIFAR-10 Batch 1:  Loss: 1.0308395624160767, Accuracy:  64.3%\n",
      "Epoch 29, CIFAR-10 Batch 2:  Loss: 1.0180686712265015, Accuracy:  65.1%\n",
      "Epoch 29, CIFAR-10 Batch 3:  Loss: 1.0200542211532593, Accuracy:  64.8%\n",
      "Epoch 29, CIFAR-10 Batch 4:  Loss: 1.0166574716567993, Accuracy:  65.3%\n",
      "Epoch 29, CIFAR-10 Batch 5:  Loss: 0.995049238204956, Accuracy:  64.2%\n",
      "Epoch 30, CIFAR-10 Batch 1:  Loss: 1.0130114555358887, Accuracy:  64.7%\n",
      "Epoch 30, CIFAR-10 Batch 2:  Loss: 1.0086194276809692, Accuracy:  65.5%\n",
      "Epoch 30, CIFAR-10 Batch 3:  Loss: 1.03144109249115, Accuracy:  65.3%\n",
      "Epoch 30, CIFAR-10 Batch 4:  Loss: 0.9823302626609802, Accuracy:  65.2%\n",
      "Epoch 30, CIFAR-10 Batch 5:  Loss: 0.9929465055465698, Accuracy:  65.7%\n",
      "Epoch 31, CIFAR-10 Batch 1:  Loss: 1.002990484237671, Accuracy:  65.7%\n",
      "Epoch 31, CIFAR-10 Batch 2:  Loss: 0.9770238399505615, Accuracy:  65.6%\n",
      "Epoch 31, CIFAR-10 Batch 3:  Loss: 1.014377236366272, Accuracy:  64.7%\n",
      "Epoch 31, CIFAR-10 Batch 4:  Loss: 1.0001052618026733, Accuracy:  65.9%\n",
      "Epoch 31, CIFAR-10 Batch 5:  Loss: 1.0077658891677856, Accuracy:  65.6%\n",
      "Epoch 32, CIFAR-10 Batch 1:  Loss: 1.0166255235671997, Accuracy:  65.6%\n",
      "Epoch 32, CIFAR-10 Batch 2:  Loss: 1.009383201599121, Accuracy:  65.1%\n",
      "Epoch 32, CIFAR-10 Batch 3:  Loss: 1.0156879425048828, Accuracy:  64.4%\n",
      "Epoch 32, CIFAR-10 Batch 4:  Loss: 1.024170160293579, Accuracy:  65.7%\n",
      "Epoch 32, CIFAR-10 Batch 5:  Loss: 1.0045721530914307, Accuracy:  65.5%\n",
      "Epoch 33, CIFAR-10 Batch 1:  Loss: 1.0450361967086792, Accuracy:  65.1%\n",
      "Epoch 33, CIFAR-10 Batch 2:  Loss: 0.9948129653930664, Accuracy:  66.3%\n",
      "Epoch 33, CIFAR-10 Batch 3:  Loss: 0.9729450345039368, Accuracy:  66.0%\n",
      "Epoch 33, CIFAR-10 Batch 4:  Loss: 0.9718367457389832, Accuracy:  66.0%\n",
      "Epoch 33, CIFAR-10 Batch 5:  Loss: 0.9785617589950562, Accuracy:  66.4%\n",
      "Epoch 34, CIFAR-10 Batch 1:  Loss: 1.0050357580184937, Accuracy:  66.3%\n",
      "Epoch 34, CIFAR-10 Batch 2:  Loss: 0.9741755723953247, Accuracy:  65.4%\n",
      "Epoch 34, CIFAR-10 Batch 3:  Loss: 0.9880720973014832, Accuracy:  66.2%\n",
      "Epoch 34, CIFAR-10 Batch 4:  Loss: 0.9796136617660522, Accuracy:  66.7%\n",
      "Epoch 34, CIFAR-10 Batch 5:  Loss: 0.9867209196090698, Accuracy:  65.7%\n",
      "Epoch 35, CIFAR-10 Batch 1:  Loss: 1.0166062116622925, Accuracy:  64.6%\n",
      "Epoch 35, CIFAR-10 Batch 2:  Loss: 0.9948471188545227, Accuracy:  65.4%\n",
      "Epoch 35, CIFAR-10 Batch 3:  Loss: 1.0522193908691406, Accuracy:  64.9%\n",
      "Epoch 35, CIFAR-10 Batch 4:  Loss: 0.9725876450538635, Accuracy:  66.5%\n",
      "Epoch 35, CIFAR-10 Batch 5:  Loss: 0.9978808164596558, Accuracy:  65.9%\n",
      "Epoch 36, CIFAR-10 Batch 1:  Loss: 0.9570403695106506, Accuracy:  65.8%\n",
      "Epoch 36, CIFAR-10 Batch 2:  Loss: 0.9934722185134888, Accuracy:  65.8%\n",
      "Epoch 36, CIFAR-10 Batch 3:  Loss: 1.0421735048294067, Accuracy:  63.1%\n",
      "Epoch 36, CIFAR-10 Batch 4:  Loss: 0.9738723039627075, Accuracy:  66.7%\n",
      "Epoch 36, CIFAR-10 Batch 5:  Loss: 0.9901860356330872, Accuracy:  65.5%\n",
      "Epoch 37, CIFAR-10 Batch 1:  Loss: 0.9962100982666016, Accuracy:  64.5%\n",
      "Epoch 37, CIFAR-10 Batch 2:  Loss: 0.9845542907714844, Accuracy:  66.4%\n",
      "Epoch 37, CIFAR-10 Batch 3:  Loss: 1.0099337100982666, Accuracy:  65.1%\n",
      "Epoch 37, CIFAR-10 Batch 4:  Loss: 0.9707722663879395, Accuracy:  66.4%\n",
      "Epoch 37, CIFAR-10 Batch 5:  Loss: 0.97255539894104, Accuracy:  66.9%\n",
      "Epoch 38, CIFAR-10 Batch 1:  Loss: 0.9820185899734497, Accuracy:  66.7%\n",
      "Epoch 38, CIFAR-10 Batch 2:  Loss: 0.9716435074806213, Accuracy:  66.3%\n",
      "Epoch 38, CIFAR-10 Batch 3:  Loss: 1.0514620542526245, Accuracy:  64.0%\n",
      "Epoch 38, CIFAR-10 Batch 4:  Loss: 0.9927253127098083, Accuracy:  66.2%\n",
      "Epoch 38, CIFAR-10 Batch 5:  Loss: 0.9743550419807434, Accuracy:  67.5%\n",
      "Epoch 39, CIFAR-10 Batch 1:  Loss: 0.9874873161315918, Accuracy:  65.8%\n",
      "Epoch 39, CIFAR-10 Batch 2:  Loss: 0.9643681049346924, Accuracy:  66.6%\n",
      "Epoch 39, CIFAR-10 Batch 3:  Loss: 0.9971145987510681, Accuracy:  66.3%\n",
      "Epoch 39, CIFAR-10 Batch 4:  Loss: 0.976981520652771, Accuracy:  66.5%\n",
      "Epoch 39, CIFAR-10 Batch 5:  Loss: 0.9885350465774536, Accuracy:  66.8%\n",
      "Epoch 40, CIFAR-10 Batch 1:  Loss: 0.996773362159729, Accuracy:  66.2%\n",
      "Epoch 40, CIFAR-10 Batch 2:  Loss: 0.9667836427688599, Accuracy:  67.9%\n",
      "Epoch 40, CIFAR-10 Batch 3:  Loss: 1.0443081855773926, Accuracy:  64.8%\n",
      "Epoch 40, CIFAR-10 Batch 4:  Loss: 0.969291090965271, Accuracy:  67.3%\n",
      "Epoch 40, CIFAR-10 Batch 5:  Loss: 0.977744460105896, Accuracy:  67.1%\n",
      "Epoch 41, CIFAR-10 Batch 1:  Loss: 0.9871639013290405, Accuracy:  66.1%\n",
      "Epoch 41, CIFAR-10 Batch 2:  Loss: 0.9975884556770325, Accuracy:  65.6%\n",
      "Epoch 41, CIFAR-10 Batch 3:  Loss: 0.9905939102172852, Accuracy:  65.9%\n",
      "Epoch 41, CIFAR-10 Batch 4:  Loss: 0.9691058397293091, Accuracy:  66.8%\n",
      "Epoch 41, CIFAR-10 Batch 5:  Loss: 0.9847638010978699, Accuracy:  65.9%\n",
      "Epoch 42, CIFAR-10 Batch 1:  Loss: 1.011635184288025, Accuracy:  66.6%\n",
      "Epoch 42, CIFAR-10 Batch 2:  Loss: 0.9635647535324097, Accuracy:  66.4%\n",
      "Epoch 42, CIFAR-10 Batch 3:  Loss: 0.9704879522323608, Accuracy:  66.6%\n",
      "Epoch 42, CIFAR-10 Batch 4:  Loss: 1.0093308687210083, Accuracy:  64.9%\n",
      "Epoch 42, CIFAR-10 Batch 5:  Loss: 0.9725127816200256, Accuracy:  66.3%\n",
      "Epoch 43, CIFAR-10 Batch 1:  Loss: 0.9664788246154785, Accuracy:  66.5%\n",
      "Epoch 43, CIFAR-10 Batch 2:  Loss: 0.9645385146141052, Accuracy:  66.7%\n",
      "Epoch 43, CIFAR-10 Batch 3:  Loss: 0.9597703218460083, Accuracy:  66.6%\n",
      "Epoch 43, CIFAR-10 Batch 4:  Loss: 0.945814847946167, Accuracy:  67.1%\n",
      "Epoch 43, CIFAR-10 Batch 5:  Loss: 0.9555525779724121, Accuracy:  67.5%\n",
      "Epoch 44, CIFAR-10 Batch 1:  Loss: 0.97786945104599, Accuracy:  66.6%\n",
      "Epoch 44, CIFAR-10 Batch 2:  Loss: 0.9690960049629211, Accuracy:  66.1%\n",
      "Epoch 44, CIFAR-10 Batch 3:  Loss: 0.9854011535644531, Accuracy:  66.2%\n",
      "Epoch 44, CIFAR-10 Batch 4:  Loss: 0.9607037305831909, Accuracy:  67.4%\n",
      "Epoch 44, CIFAR-10 Batch 5:  Loss: 0.9633030295372009, Accuracy:  67.6%\n",
      "Epoch 45, CIFAR-10 Batch 1:  Loss: 0.9461307525634766, Accuracy:  67.1%\n",
      "Epoch 45, CIFAR-10 Batch 2:  Loss: 0.9755939245223999, Accuracy:  66.1%\n",
      "Epoch 45, CIFAR-10 Batch 3:  Loss: 0.9739512801170349, Accuracy:  66.5%\n",
      "Epoch 45, CIFAR-10 Batch 4:  Loss: 0.9527240991592407, Accuracy:  67.9%\n",
      "Epoch 45, CIFAR-10 Batch 5:  Loss: 0.9650066494941711, Accuracy:  67.4%\n",
      "Epoch 46, CIFAR-10 Batch 1:  Loss: 0.9653152227401733, Accuracy:  67.0%\n",
      "Epoch 46, CIFAR-10 Batch 2:  Loss: 0.9554297924041748, Accuracy:  68.8%\n",
      "Epoch 46, CIFAR-10 Batch 3:  Loss: 0.9785842895507812, Accuracy:  66.3%\n",
      "Epoch 46, CIFAR-10 Batch 4:  Loss: 0.9327017664909363, Accuracy:  67.9%\n",
      "Epoch 46, CIFAR-10 Batch 5:  Loss: 0.9600918292999268, Accuracy:  66.7%\n",
      "Epoch 47, CIFAR-10 Batch 1:  Loss: 0.9872534275054932, Accuracy:  66.2%\n",
      "Epoch 47, CIFAR-10 Batch 2:  Loss: 0.9560334086418152, Accuracy:  68.1%\n",
      "Epoch 47, CIFAR-10 Batch 3:  Loss: 1.0046285390853882, Accuracy:  65.3%\n",
      "Epoch 47, CIFAR-10 Batch 4:  Loss: 0.9661661386489868, Accuracy:  67.9%\n",
      "Epoch 47, CIFAR-10 Batch 5:  Loss: 0.9860497117042542, Accuracy:  66.5%\n",
      "Epoch 48, CIFAR-10 Batch 1:  Loss: 0.9849606156349182, Accuracy:  66.3%\n",
      "Epoch 48, CIFAR-10 Batch 2:  Loss: 0.9384198188781738, Accuracy:  68.5%\n",
      "Epoch 48, CIFAR-10 Batch 3:  Loss: 0.9893208742141724, Accuracy:  67.2%\n",
      "Epoch 48, CIFAR-10 Batch 4:  Loss: 0.9838002920150757, Accuracy:  66.9%\n",
      "Epoch 48, CIFAR-10 Batch 5:  Loss: 0.9695298671722412, Accuracy:  67.8%\n",
      "Epoch 49, CIFAR-10 Batch 1:  Loss: 0.9468255043029785, Accuracy:  68.1%\n",
      "Epoch 49, CIFAR-10 Batch 2:  Loss: 0.9434748888015747, Accuracy:  67.0%\n",
      "Epoch 49, CIFAR-10 Batch 3:  Loss: 1.0029417276382446, Accuracy:  66.7%\n",
      "Epoch 49, CIFAR-10 Batch 4:  Loss: 0.9519693851470947, Accuracy:  68.0%\n",
      "Epoch 49, CIFAR-10 Batch 5:  Loss: 0.9368163347244263, Accuracy:  67.4%\n",
      "Epoch 50, CIFAR-10 Batch 1:  Loss: 0.9313182830810547, Accuracy:  67.1%\n",
      "Epoch 50, CIFAR-10 Batch 2:  Loss: 0.9414157271385193, Accuracy:  67.1%\n",
      "Epoch 50, CIFAR-10 Batch 3:  Loss: 0.9834273457527161, Accuracy:  66.4%\n",
      "Epoch 50, CIFAR-10 Batch 4:  Loss: 0.9340389966964722, Accuracy:  68.0%\n",
      "Epoch 50, CIFAR-10 Batch 5:  Loss: 0.9460273385047913, Accuracy:  67.4%\n"
     ]
    }
   ],
   "source": [
    "\"\"\"\n",
    "DON'T MODIFY ANYTHING IN THIS CELL\n",
    "\"\"\"\n",
    "save_model_path = './image_classification'\n",
    "\n",
    "print('Training...')\n",
    "with tf.Session() as sess:\n",
    "    # Initializing the variables\n",
    "    sess.run(tf.global_variables_initializer())\n",
    "    \n",
    "    # Training cycle\n",
    "    for epoch in range(epochs):\n",
    "        # Loop over all batches\n",
    "        n_batches = 5\n",
    "        for batch_i in range(1, n_batches + 1):\n",
    "            for batch_features, batch_labels in helper.load_preprocess_training_batch(batch_i, batch_size):\n",
    "                train_neural_network(sess, optimizer, keep_probability, batch_features, batch_labels)\n",
    "            print('Epoch {:>2}, CIFAR-10 Batch {}:  '.format(epoch + 1, batch_i), end='')\n",
    "            print_stats(sess, batch_features, batch_labels, cost, accuracy)\n",
    "            \n",
    "    # Save Model\n",
    "    saver = tf.train.Saver()\n",
    "    save_path = saver.save(sess, save_model_path)"
   ]
  },
  {
   "cell_type": "markdown",
   "metadata": {
    "deletable": true,
    "editable": true
   },
   "source": [
    "# Checkpoint\n",
    "The model has been saved to disk.\n",
    "## Test Model\n",
    "Test your model against the test dataset.  This will be your final accuracy. You should have an accuracy greater than 50%. If you don't, keep tweaking the model architecture and parameters."
   ]
  },
  {
   "cell_type": "code",
   "execution_count": 35,
   "metadata": {
    "collapsed": false,
    "deletable": true,
    "editable": true
   },
   "outputs": [
    {
     "name": "stdout",
     "output_type": "stream",
     "text": [
      "Testing Accuracy: 0.6671875\n",
      "\n"
     ]
    },
    {
     "data": {
      "image/png": "[encoded data removed]",
      "text/plain": [
       "<matplotlib.figure.Figure at 0x7fc95c5c3668>"
      ]
     },
     "metadata": {
      "image/png": {
       "height": 319,
       "width": 355
      }
     },
     "output_type": "display_data"
    }
   ],
   "source": [
    "\"\"\"\n",
    "DON'T MODIFY ANYTHING IN THIS CELL\n",
    "\"\"\"\n",
    "%matplotlib inline\n",
    "%config InlineBackend.figure_format = 'retina'\n",
    "\n",
    "import tensorflow as tf\n",
    "import pickle\n",
    "import helper\n",
    "import random\n",
    "\n",
    "# Set batch size if not already set\n",
    "try:\n",
    "    if batch_size:\n",
    "        pass\n",
    "except NameError:\n",
    "    batch_size = 64\n",
    "\n",
    "save_model_path = './image_classification'\n",
    "n_samples = 4\n",
    "top_n_predictions = 3\n",
    "\n",
    "def test_model():\n",
    "    \"\"\"\n",
    "    Test the saved model against the test dataset\n",
    "    \"\"\"\n",
    "\n",
    "    test_features, test_labels = pickle.load(open('preprocess_training.p', mode='rb'))\n",
    "    loaded_graph = tf.Graph()\n",
    "\n",
    "    with tf.Session(graph=loaded_graph) as sess:\n",
    "        # Load model\n",
    "        loader = tf.train.import_meta_graph(save_model_path + '.meta')\n",
    "        loader.restore(sess, save_model_path)\n",
    "\n",
    "        # Get Tensors from loaded model\n",
    "        loaded_x = loaded_graph.get_tensor_by_name('x:0')\n",
    "        loaded_y = loaded_graph.get_tensor_by_name('y:0')\n",
    "        loaded_keep_prob = loaded_graph.get_tensor_by_name('keep_prob:0')\n",
    "        loaded_logits = loaded_graph.get_tensor_by_name('logits:0')\n",
    "        loaded_acc = loaded_graph.get_tensor_by_name('accuracy:0')\n",
    "        \n",
    "        # Get accuracy in batches for memory limitations\n",
    "        test_batch_acc_total = 0\n",
    "        test_batch_count = 0\n",
    "        \n",
    "        for test_feature_batch, test_label_batch in helper.batch_features_labels(test_features, test_labels, batch_size):\n",
    "            test_batch_acc_total += sess.run(\n",
    "                loaded_acc,\n",
    "                feed_dict={loaded_x: test_feature_batch, loaded_y: test_label_batch, loaded_keep_prob: 1.0})\n",
    "            test_batch_count += 1\n",
    "\n",
    "        print('Testing Accuracy: {}\\n'.format(test_batch_acc_total/test_batch_count))\n",
    "\n",
    "        # Print Random Samples\n",
    "        random_test_features, random_test_labels = tuple(zip(*random.sample(list(zip(test_features, test_labels)), n_samples)))\n",
    "        random_test_predictions = sess.run(\n",
    "            tf.nn.top_k(tf.nn.softmax(loaded_logits), top_n_predictions),\n",
    "            feed_dict={loaded_x: random_test_features, loaded_y: random_test_labels, loaded_keep_prob: 1.0})\n",
    "        helper.display_image_predictions(random_test_features, random_test_labels, random_test_predictions)\n",
    "\n",
    "\n",
    "test_model()"
   ]
  },
  {
   "cell_type": "markdown",
   "metadata": {
    "deletable": true,
    "editable": true
   },
   "source": [
    "## Why 50-80% Accuracy?\n",
    "You might be wondering why you can't get an accuracy any higher. First things first, 50% isn't bad for a simple CNN.  Pure guessing would get you 10% accuracy. However, you might notice people are getting scores [well above 80%](http://rodrigob.github.io/are_we_there_yet/build/classification_datasets_results.html#43494641522d3130).  That's because we haven't taught you all there is to know about neural networks. We still need to cover a few more techniques.\n",
    "## Submitting This Project\n",
    "When submitting this project, make sure to run all the cells before saving the notebook.  Save the notebook file as \"dlnd_image_classification.ipynb\" and save it as a HTML file under \"File\" -> \"Download as\".  Include the \"helper.py\" and \"problem_unittests.py\" files in your submission."
   ]
  }
 ],
 "metadata": {
  "kernelspec": {
   "display_name": "Python 3",
   "language": "python",
   "name": "python3"
  },
  "language_info": {
   "codemirror_mode": {
    "name": "ipython",
    "version": 3
   },
   "file_extension": ".py",
   "mimetype": "text/x-python",
   "name": "python",
   "nbconvert_exporter": "python",
   "pygments_lexer": "ipython3",
   "version": "3.5.3"
  }
 },
 "nbformat": 4,
 "nbformat_minor": 1
}
