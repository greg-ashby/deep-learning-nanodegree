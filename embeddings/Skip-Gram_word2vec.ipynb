{
 "cells": [
  {
   "cell_type": "markdown",
   "metadata": {},
   "source": [
    "# Skip-gram word2vec\n",
    "\n",
    "In this notebook, I'll lead you through using TensorFlow to implement the word2vec algorithm using the skip-gram architecture. By implementing this, you'll learn about embedding words for use in natural language processing. This will come in handy when dealing with things like machine translation.\n",
    "\n",
    "## Readings\n",
    "\n",
    "Here are the resources I used to build this notebook. I suggest reading these either beforehand or while you're working on this material.\n",
    "\n",
    "* A really good [conceptual overview](http://mccormickml.com/2016/04/19/word2vec-tutorial-the-skip-gram-model/) of word2vec from Chris McCormick \n",
    "* [First word2vec paper](https://arxiv.org/pdf/1301.3781.pdf) from Mikolov et al.\n",
    "* [NIPS paper](http://papers.nips.cc/paper/5021-distributed-representations-of-words-and-phrases-and-their-compositionality.pdf) with improvements for word2vec also from Mikolov et al.\n",
    "* An [implementation of word2vec](http://www.thushv.com/natural_language_processing/word2vec-part-1-nlp-with-deep-learning-with-tensorflow-skip-gram/) from Thushan Ganegedara\n",
    "* TensorFlow [word2vec tutorial](https://www.tensorflow.org/tutorials/word2vec)\n",
    "\n",
    "## Word embeddings\n",
    "\n",
    "When you're dealing with words in text, you end up with tens of thousands of classes to predict, one for each word. Trying to one-hot encode these words is massively inefficient, you'll have one element set to 1 and the other 50,000 set to 0. The matrix multiplication going into the first hidden layer will have almost all of the resulting values be zero. This a huge waste of computation. \n",
    "\n",
    "![one-hot encodings](assets/one_hot_encoding.png)\n",
    "\n",
    "To solve this problem and greatly increase the efficiency of our networks, we use what are called embeddings. Embeddings are just a fully connected layer like you've seen before. We call this layer the embedding layer and the weights are embedding weights. We skip the multiplication into the embedding layer by instead directly grabbing the hidden layer values from the weight matrix. We can do this because the multiplication of a one-hot encoded vector with a matrix returns the row of the matrix corresponding the index of the \"on\" input unit.\n",
    "\n",
    "![lookup](assets/lookup_matrix.png)\n",
    "\n",
    "Instead of doing the matrix multiplication, we use the weight matrix as a lookup table. We encode the words as integers, for example \"heart\" is encoded as 958, \"mind\" as 18094. Then to get hidden layer values for \"heart\", you just take the 958th row of the embedding matrix. This process is called an **embedding lookup** and the number of hidden units is the **embedding dimension**.\n",
    "\n",
    "<img src='assets/tokenize_lookup.png' width=500>\n",
    " \n",
    "There is nothing magical going on here. The embedding lookup table is just a weight matrix. The embedding layer is just a hidden layer. The lookup is just a shortcut for the matrix multiplication. The lookup table is trained just like any weight matrix as well.\n",
    "\n",
    "Embeddings aren't only used for words of course. You can use them for any model where you have a massive number of classes. A particular type of model called **Word2Vec** uses the embedding layer to find vector representations of words that contain semantic meaning.\n",
    "\n"
   ]
  },
  {
   "cell_type": "markdown",
   "metadata": {},
   "source": [
    "## Word2Vec\n",
    "\n",
    "The word2vec algorithm finds much more efficient representations by finding vectors that represent the words. These vectors also contain semantic information about the words. Words that show up in similar contexts, such as \"black\", \"white\", and \"red\" will have vectors near each other. There are two architectures for implementing word2vec, CBOW (Continuous Bag-Of-Words) and Skip-gram.\n",
    "\n",
    "<img src=\"assets/word2vec_architectures.png\" width=\"500\">\n",
    "\n",
    "In this implementation, we'll be using the skip-gram architecture because it performs better than CBOW. Here, we pass in a word and try to predict the words surrounding it in the text. In this way, we can train the network to learn representations for words that show up in similar contexts.\n",
    "\n",
    "First up, importing packages."
   ]
  },
  {
   "cell_type": "code",
<<<<<<< HEAD
   "execution_count": 1,
   "metadata": {},
=======
   "execution_count": null,
   "metadata": {
    "collapsed": true
   },
>>>>>>> 5443c49497a9e90ae7ddb4da49ef94f41aa6303f
   "outputs": [],
   "source": [
    "import time\n",
    "\n",
    "import numpy as np\n",
    "import tensorflow as tf\n",
    "\n",
    "import utils"
   ]
  },
  {
   "cell_type": "markdown",
   "metadata": {},
   "source": [
    "Load the [text8 dataset](http://mattmahoney.net/dc/textdata.html), a file of cleaned up Wikipedia articles from Matt Mahoney. The next cell will download the data set to the `data` folder. Then you can extract it and delete the archive file to save storage space."
   ]
  },
  {
   "cell_type": "code",
<<<<<<< HEAD
   "execution_count": 2,
   "metadata": {},
   "outputs": [
    {
     "name": "stderr",
     "output_type": "stream",
     "text": [
      "Text8 Dataset: 31.4MB [00:12, 2.42MB/s]                            \n"
     ]
    }
   ],
=======
   "execution_count": null,
   "metadata": {
    "collapsed": true
   },
   "outputs": [],
>>>>>>> 5443c49497a9e90ae7ddb4da49ef94f41aa6303f
   "source": [
    "from urllib.request import urlretrieve\n",
    "from os.path import isfile, isdir\n",
    "from tqdm import tqdm\n",
    "import zipfile\n",
    "\n",
    "dataset_folder_path = 'data'\n",
    "dataset_filename = 'text8.zip'\n",
    "dataset_name = 'Text8 Dataset'\n",
    "\n",
    "class DLProgress(tqdm):\n",
    "    last_block = 0\n",
    "\n",
    "    def hook(self, block_num=1, block_size=1, total_size=None):\n",
    "        self.total = total_size\n",
    "        self.update((block_num - self.last_block) * block_size)\n",
    "        self.last_block = block_num\n",
    "\n",
    "if not isfile(dataset_filename):\n",
    "    with DLProgress(unit='B', unit_scale=True, miniters=1, desc=dataset_name) as pbar:\n",
    "        urlretrieve(\n",
    "            'http://mattmahoney.net/dc/text8.zip',\n",
    "            dataset_filename,\n",
    "            pbar.hook)\n",
    "\n",
    "if not isdir(dataset_folder_path):\n",
    "    with zipfile.ZipFile(dataset_filename) as zip_ref:\n",
    "        zip_ref.extractall(dataset_folder_path)\n",
    "        \n",
    "with open('data/text8') as f:\n",
    "    text = f.read()"
   ]
  },
  {
   "cell_type": "markdown",
   "metadata": {},
   "source": [
    "## Preprocessing\n",
    "\n",
    "Here I'm fixing up the text to make training easier. This comes from the `utils` module I wrote. The `preprocess` function coverts any punctuation into tokens, so a period is changed to ` <PERIOD> `. In this data set, there aren't any periods, but it will help in other NLP problems. I'm also removing all words that show up five or fewer times in the dataset. This will greatly reduce issues due to noise in the data and improve the quality of the vector representations. If you want to write your own functions for this stuff, go for it."
   ]
  },
  {
   "cell_type": "code",
<<<<<<< HEAD
   "execution_count": 3,
   "metadata": {},
   "outputs": [
    {
     "name": "stdout",
     "output_type": "stream",
     "text": [
      "['anarchism', 'originated', 'as', 'a', 'term', 'of', 'abuse', 'first', 'used', 'against', 'early', 'working', 'class', 'radicals', 'including', 'the', 'diggers', 'of', 'the', 'english', 'revolution', 'and', 'the', 'sans', 'culottes', 'of', 'the', 'french', 'revolution', 'whilst']\n"
     ]
    }
   ],
=======
   "execution_count": null,
   "metadata": {
    "collapsed": true
   },
   "outputs": [],
>>>>>>> 5443c49497a9e90ae7ddb4da49ef94f41aa6303f
   "source": [
    "words = utils.preprocess(text)\n",
    "print(words[:30])"
   ]
  },
  {
   "cell_type": "code",
<<<<<<< HEAD
   "execution_count": 4,
   "metadata": {},
   "outputs": [
    {
     "name": "stdout",
     "output_type": "stream",
     "text": [
      "Total words: 16680599\n",
      "Unique words: 63641\n"
     ]
    }
   ],
=======
   "execution_count": null,
   "metadata": {
    "collapsed": true
   },
   "outputs": [],
>>>>>>> 5443c49497a9e90ae7ddb4da49ef94f41aa6303f
   "source": [
    "print(\"Total words: {}\".format(len(words)))\n",
    "print(\"Unique words: {}\".format(len(set(words))))"
   ]
  },
  {
   "cell_type": "markdown",
   "metadata": {},
   "source": [
    "And here I'm creating dictionaries to covert words to integers and backwards, integers to words. The integers are assigned in descending frequency order, so the most frequent word (\"the\") is given the integer 0 and the next most frequent is 1 and so on. The words are converted to integers and stored in the list `int_words`."
   ]
  },
  {
   "cell_type": "code",
<<<<<<< HEAD
   "execution_count": 5,
   "metadata": {},
=======
   "execution_count": null,
   "metadata": {
    "collapsed": true
   },
>>>>>>> 5443c49497a9e90ae7ddb4da49ef94f41aa6303f
   "outputs": [],
   "source": [
    "vocab_to_int, int_to_vocab = utils.create_lookup_tables(words)\n",
    "int_words = [vocab_to_int[word] for word in words]"
   ]
  },
  {
   "cell_type": "markdown",
   "metadata": {},
   "source": [
    "## Subsampling\n",
    "\n",
    "Words that show up often such as \"the\", \"of\", and \"for\" don't provide much context to the nearby words. If we discard some of them, we can remove some of the noise from our data and in return get faster training and better representations. This process is called subsampling by Mikolov. For each word $w_i$ in the training set, we'll discard it with probability given by \n",
    "\n",
    "$$ P(w_i) = 1 - \\sqrt{\\frac{t}{f(w_i)}} $$\n",
    "\n",
    "where $t$ is a threshold parameter and $f(w_i)$ is the frequency of word $w_i$ in the total dataset.\n",
    "\n",
    "I'm going to leave this up to you as an exercise. This is more of a programming challenge, than about deep learning specifically. But, being able to prepare your data for your network is an important skill to have. Check out my solution to see how I did it.\n",
    "\n",
    "> **Exercise:** Implement subsampling for the words in `int_words`. That is, go through `int_words` and discard each word given the probablility $P(w_i)$ shown above. Note that $P(w_i)$ is the probability that a word is discarded. Assign the subsampled data to `train_words`."
   ]
  },
  {
   "cell_type": "code",
<<<<<<< HEAD
   "execution_count": 8,
   "metadata": {},
=======
   "execution_count": null,
   "metadata": {
    "collapsed": true
   },
>>>>>>> 5443c49497a9e90ae7ddb4da49ef94f41aa6303f
   "outputs": [],
   "source": [
    "## Your code here\n",
    "\n",
    "from collections import Counter\n",
    "import random\n",
    "\n",
    "threshold = 1e-5\n",
    "\n",
    "word_counts = Counter(int_words)\n",
    "total_count = len(int_words)\n",
    "frequency = {word: count/total_count for word, count in word_counts.items()}\n",
    "probability = {word: 1 - np.sqrt(threshold/frequency[word]) for word in word_counts}\n",
    "train_words = [word for word in int_words if probability[word] < random.random()]\n"
   ]
  },
  {
   "cell_type": "markdown",
   "metadata": {},
   "source": [
    "## Making batches"
   ]
  },
  {
   "cell_type": "markdown",
   "metadata": {},
   "source": [
    "Now that our data is in good shape, we need to get it into the proper form to pass it into our network. With the skip-gram architecture, for each word in the text, we want to grab all the words in a window around that word, with size $C$. \n",
    "\n",
    "From [Mikolov et al.](https://arxiv.org/pdf/1301.3781.pdf): \n",
    "\n",
    "\"Since the more distant words are usually less related to the current word than those close to it, we give less weight to the distant words by sampling less from those words in our training examples... If we choose $C = 5$, for each training word we will select randomly a number $R$ in range $< 1; C >$, and then use $R$ words from history and $R$ words from the future of the current word as correct labels.\"\n",
    "\n",
    "> **Exercise:** Implement a function `get_target` that receives a list of words, an index, and a window size, then returns a list of words in the window around the index. Make sure to use the algorithm described above, where you choose a random number of words from the window."
   ]
  },
  {
   "cell_type": "code",
   "execution_count": 27,
   "metadata": {
    "collapsed": true
   },
   "outputs": [],
   "source": [
    "def get_target(words, idx, window_size=5):\n",
    "    ''' Get a list of words in a window around an index. '''\n",
    "    \n",
    "    # Your code here\n",
    "    # choose an R <= window_size\n",
    "    # get a list of the words[index - R:index+1+R], but not the current one and handle wrapping\n",
    "    R = random.randint(1,window_size+1)\n",
    "    begin = 0 if idx - R < 0 else idx - R\n",
    "    end = len(words) if idx + R > len(words) else idx + R\n",
    "    target_words = set(words[begin:idx] + words[idx+1:end+1])\n",
    "    \n",
    "    return list(target_words)"
   ]
  },
  {
   "cell_type": "markdown",
   "metadata": {},
   "source": [
    "Here's a function that returns batches for our network. The idea is that it grabs `batch_size` words from a words list. Then for each of those words, it gets the target words in the window. I haven't found a way to pass in a random number of target words and get it to work with the architecture, so I make one row per input-target pair. This is a generator function by the way, helps save memory."
   ]
  },
  {
   "cell_type": "code",
<<<<<<< HEAD
   "execution_count": 28,
   "metadata": {},
=======
   "execution_count": null,
   "metadata": {
    "collapsed": true
   },
>>>>>>> 5443c49497a9e90ae7ddb4da49ef94f41aa6303f
   "outputs": [],
   "source": [
    "def get_batches(words, batch_size, window_size=5):\n",
    "    ''' Create a generator of word batches as a tuple (inputs, targets) '''\n",
    "    \n",
    "    n_batches = len(words)//batch_size\n",
    "    \n",
    "    # only full batches\n",
    "    words = words[:n_batches*batch_size]\n",
    "    \n",
    "    for idx in range(0, len(words), batch_size):\n",
    "        x, y = [], []\n",
    "        batch = words[idx:idx+batch_size]\n",
    "        for ii in range(len(batch)):\n",
    "            batch_x = batch[ii]\n",
    "            batch_y = get_target(batch, ii, window_size)\n",
    "            y.extend(batch_y)\n",
    "            x.extend([batch_x]*len(batch_y))\n",
    "        yield x, y\n",
    "    "
   ]
  },
  {
   "cell_type": "markdown",
   "metadata": {},
   "source": [
    "## Building the graph\n",
    "\n",
    "From [Chris McCormick's blog](http://mccormickml.com/2016/04/19/word2vec-tutorial-the-skip-gram-model/), we can see the general structure of our network.\n",
    "![embedding_network](./assets/skip_gram_net_arch.png)\n",
    "\n",
    "The input words are passed in as integers. This will go into a hidden layer of linear units, then into a softmax layer. We'll use the softmax layer to make a prediction like normal.\n",
    "\n",
    "The idea here is to train the hidden layer weight matrix to find efficient representations for our words. We can discard the softmax layer becuase we don't really care about making predictions with this network. We just want the embedding matrix so we can use it in other networks we build from the dataset.\n",
    "\n",
    "I'm going to have you build the graph in stages now. First off, creating the `inputs` and `labels` placeholders like normal.\n",
    "\n",
    "> **Exercise:** Assign `inputs` and `labels` using `tf.placeholder`. We're going to be passing in integers, so set the data types to `tf.int32`. The batches we're passing in will have varying sizes, so set the batch sizes to [`None`]. To make things work later, you'll need to set the second dimension of `labels` to `None` or `1`."
   ]
  },
  {
   "cell_type": "code",
<<<<<<< HEAD
   "execution_count": 29,
   "metadata": {},
=======
   "execution_count": null,
   "metadata": {
    "collapsed": true
   },
>>>>>>> 5443c49497a9e90ae7ddb4da49ef94f41aa6303f
   "outputs": [],
   "source": [
    "train_graph = tf.Graph()\n",
    "with train_graph.as_default():\n",
    "    inputs = tf.placeholder(tf.int32, [None], name='inputs')\n",
    "    labels = tf.placeholder(tf.int32, [None, None], name='labels')"
   ]
  },
  {
   "cell_type": "markdown",
   "metadata": {},
   "source": [
    "## Embedding\n",
    "\n"
   ]
  },
  {
   "cell_type": "markdown",
   "metadata": {
    "collapsed": true
   },
   "source": [
    "The embedding matrix has a size of the number of words by the number of units in the hidden layer. So, if you have 10,000 words and 300 hidden units, the matrix will have size $10,000 \\times 300$. Remember that we're using tokenized data for our inputs, usually as integers, where the number of tokens is the number of words in our vocabulary.\n",
    "\n",
    "\n",
    "> **Exercise:** Tensorflow provides a convenient function [`tf.nn.embedding_lookup`](https://www.tensorflow.org/api_docs/python/tf/nn/embedding_lookup) that does this lookup for us. You pass in the embedding matrix and a tensor of integers, then it returns rows in the matrix corresponding to those integers. Below, set the number of embedding features you'll use (200 is a good start), create the embedding matrix variable, and use `tf.nn.embedding_lookup` to get the embedding tensors. For the embedding matrix, I suggest you initialize it with a uniform random numbers between -1 and 1 using [tf.random_uniform](https://www.tensorflow.org/api_docs/python/tf/random_uniform)."
   ]
  },
  {
   "cell_type": "code",
   "execution_count": 30,
   "metadata": {
    "collapsed": true
   },
   "outputs": [],
   "source": [
    "n_vocab = len(int_to_vocab)\n",
    "n_embedding =  200\n",
    "with train_graph.as_default():\n",
    "    embedding = tf.Variable(tf.random_uniform((n_vocab, n_embedding), -1, 1))\n",
    "    embed = tf.nn.embedding_lookup(embedding, inputs)"
   ]
  },
  {
   "cell_type": "markdown",
   "metadata": {},
   "source": [
    "## Negative sampling\n",
    "\n"
   ]
  },
  {
   "cell_type": "markdown",
   "metadata": {},
   "source": [
    "For every example we give the network, we train it using the output from the softmax layer. That means for each input, we're making very small changes to millions of weights even though we only have one true example. This makes training the network very inefficient. We can approximate the loss from the softmax layer by only updating a small subset of all the weights at once. We'll update the weights for the correct label, but only a small number of incorrect labels. This is called [\"negative sampling\"](http://papers.nips.cc/paper/5021-distributed-representations-of-words-and-phrases-and-their-compositionality.pdf). Tensorflow has a convenient function to do this, [`tf.nn.sampled_softmax_loss`](https://www.tensorflow.org/api_docs/python/tf/nn/sampled_softmax_loss).\n",
    "\n",
    "> **Exercise:** Below, create weights and biases for the softmax layer. Then, use [`tf.nn.sampled_softmax_loss`](https://www.tensorflow.org/api_docs/python/tf/nn/sampled_softmax_loss) to calculate the loss. Be sure to read the documentation to figure out how it works."
   ]
  },
  {
   "cell_type": "code",
<<<<<<< HEAD
   "execution_count": 31,
   "metadata": {},
=======
   "execution_count": null,
   "metadata": {
    "collapsed": true
   },
>>>>>>> 5443c49497a9e90ae7ddb4da49ef94f41aa6303f
   "outputs": [],
   "source": [
    "# Number of negative labels to sample\n",
    "n_sampled = 100\n",
    "with train_graph.as_default():\n",
    "    softmax_w = tf.Variable(tf.truncated_normal((n_vocab, n_embedding), stddev=0.1))\n",
    "    softmax_b = tf.Variable(tf.zeros(n_vocab))\n",
    "    \n",
    "    # Calculate the loss using negative sampling\n",
    "    loss = tf.nn.sampled_softmax_loss(softmax_w, softmax_b, \n",
    "                                      labels, embed,\n",
    "                                      n_sampled, n_vocab)\n",
    "    \n",
    "    cost = tf.reduce_mean(loss)\n",
    "    optimizer = tf.train.AdamOptimizer().minimize(cost)"
   ]
  },
  {
   "cell_type": "markdown",
   "metadata": {},
   "source": [
    "## Validation\n",
    "\n",
    "This code is from Thushan Ganegedara's implementation. Here we're going to choose a few common words and few uncommon words. Then, we'll print out the closest words to them. It's a nice way to check that our embedding table is grouping together words with similar semantic meanings."
   ]
  },
  {
   "cell_type": "code",
   "execution_count": 32,
   "metadata": {
    "collapsed": true
   },
   "outputs": [],
   "source": [
    "with train_graph.as_default():\n",
    "    ## From Thushan Ganegedara's implementation\n",
    "    valid_size = 16 # Random set of words to evaluate similarity on.\n",
    "    valid_window = 100\n",
    "    # pick 8 samples from (0,100) and (1000,1100) each ranges. lower id implies more frequent \n",
    "    valid_examples = np.array(random.sample(range(valid_window), valid_size//2))\n",
    "    valid_examples = np.append(valid_examples, \n",
    "                               random.sample(range(1000,1000+valid_window), valid_size//2))\n",
    "\n",
    "    valid_dataset = tf.constant(valid_examples, dtype=tf.int32)\n",
    "    \n",
    "    # We use the cosine distance:\n",
    "    norm = tf.sqrt(tf.reduce_sum(tf.square(embedding), 1, keep_dims=True))\n",
    "    normalized_embedding = embedding / norm\n",
    "    valid_embedding = tf.nn.embedding_lookup(normalized_embedding, valid_dataset)\n",
    "    similarity = tf.matmul(valid_embedding, tf.transpose(normalized_embedding))"
   ]
  },
  {
   "cell_type": "code",
<<<<<<< HEAD
   "execution_count": 33,
   "metadata": {},
   "outputs": [
    {
     "name": "stdout",
     "output_type": "stream",
     "text": [
      "mkdir: checkpoints: File exists\r\n"
     ]
    }
   ],
=======
   "execution_count": null,
   "metadata": {
    "collapsed": true
   },
   "outputs": [],
>>>>>>> 5443c49497a9e90ae7ddb4da49ef94f41aa6303f
   "source": [
    "# If the checkpoints directory doesn't exist:\n",
    "!mkdir checkpoints"
   ]
  },
  {
   "cell_type": "markdown",
   "metadata": {},
   "source": [
    "## Training\n",
    "\n",
    "Below is the code to train the network. Every 100 batches it reports the training loss. Every 1000 batches, it'll print out the validation words."
   ]
  },
  {
   "cell_type": "code",
<<<<<<< HEAD
   "execution_count": 34,
   "metadata": {},
   "outputs": [
    {
     "name": "stdout",
     "output_type": "stream",
     "text": [
      "Epoch 1/10 Iteration: 100 Avg. Training loss: 5.6601 0.4265 sec/batch\n",
      "Epoch 1/10 Iteration: 200 Avg. Training loss: 5.6309 0.4086 sec/batch\n",
      "Epoch 1/10 Iteration: 300 Avg. Training loss: 5.5455 0.3964 sec/batch\n",
      "Epoch 1/10 Iteration: 400 Avg. Training loss: 5.5890 0.3851 sec/batch\n",
      "Epoch 1/10 Iteration: 500 Avg. Training loss: 5.5416 0.3843 sec/batch\n",
      "Epoch 1/10 Iteration: 600 Avg. Training loss: 5.5459 0.3849 sec/batch\n",
      "Epoch 1/10 Iteration: 700 Avg. Training loss: 5.5454 0.3832 sec/batch\n",
      "Epoch 1/10 Iteration: 800 Avg. Training loss: 5.5485 0.3834 sec/batch\n",
      "Epoch 1/10 Iteration: 900 Avg. Training loss: 5.4510 0.3840 sec/batch\n",
      "Epoch 1/10 Iteration: 1000 Avg. Training loss: 5.4063 0.3845 sec/batch\n",
      "Nearest to during: hotchkiss, odilo, operatorname, jigsaw, tay, wt, retailers, chill,\n",
      "Nearest to some: messaging, cq, erne, pelagianism, manufacturer, thanking, hashes, microstates,\n",
      "Nearest to over: octonions, pos, reflectors, reuben, swarming, youngster, dolls, amram,\n",
      "Nearest to history: spiky, skiers, glock, rooms, divergences, lingual, participatory, incipit,\n",
      "Nearest to most: trenches, thory, anderssen, entomology, lemmink, mahesh, timeless, chosen,\n",
      "Nearest to while: processors, keir, invulnerable, litter, fostered, veteran, subsonic, stale,\n",
      "Nearest to war: delaying, erina, cistercians, sundays, tingling, interrupted, rebellious, molybdenum,\n",
      "Nearest to up: ii, togo, launches, commercial, frontiersman, wavy, suzaku, venturing,\n",
      "Nearest to units: prodi, inlays, isobaric, bavarians, rambling, goodall, bath, environs,\n",
      "Nearest to scale: belonged, skirmishers, campeador, throw, holdover, submit, buddhahood, repr,\n",
      "Nearest to versions: furthering, offender, trees, comprehensible, wind, dosadi, wormholes, ballpoint,\n",
      "Nearest to magazine: catwoman, commanded, farther, preparing, carnivores, verbose, amps, finally,\n",
      "Nearest to powers: bodhidharma, aztec, resentments, frey, intuition, shaver, mushroom, onesimus,\n",
      "Nearest to pope: favorable, prussians, arrayed, appreciably, ascending, montoku, sseldorf, cons,\n",
      "Nearest to square: chaerea, rooted, pitchfork, albornoz, elkhart, mohel, petherbridge, specials,\n",
      "Nearest to behind: metastability, novelists, estados, bergerac, marcomanni, triumvirate, trademark, slogans,\n",
      "Epoch 1/10 Iteration: 1100 Avg. Training loss: 5.4970 0.3902 sec/batch\n",
      "Epoch 1/10 Iteration: 1200 Avg. Training loss: 5.3632 0.3803 sec/batch\n",
      "Epoch 1/10 Iteration: 1300 Avg. Training loss: 5.3075 0.3840 sec/batch\n",
      "Epoch 1/10 Iteration: 1400 Avg. Training loss: 5.2668 0.3791 sec/batch\n",
      "Epoch 1/10 Iteration: 1500 Avg. Training loss: 5.2163 0.3817 sec/batch\n",
      "Epoch 1/10 Iteration: 1600 Avg. Training loss: 5.1516 0.3839 sec/batch\n",
      "Epoch 1/10 Iteration: 1700 Avg. Training loss: 5.1062 0.3791 sec/batch\n",
      "Epoch 1/10 Iteration: 1800 Avg. Training loss: 5.0488 36.3400 sec/batch\n",
      "Epoch 1/10 Iteration: 1900 Avg. Training loss: 4.9747 36.4069 sec/batch\n",
      "Epoch 1/10 Iteration: 2000 Avg. Training loss: 4.9730 36.4189 sec/batch\n",
      "Nearest to during: soon, consider, retailers, tay, nightclub, theatrical, hotchkiss, viper,\n",
      "Nearest to some: differ, cq, messaging, manufacturer, erne, traits, him, isomorphism,\n",
      "Nearest to over: pos, remains, octonions, counties, fast, global, reuben, butcher,\n",
      "Nearest to history: spiky, skiers, participatory, glock, united, infamous, rooms, idea,\n",
      "Nearest to most: trenches, chosen, territories, thory, entomology, going, liberal, advised,\n",
      "Nearest to while: processors, drawing, fostered, invulnerable, emperor, keir, veteran, army,\n",
      "Nearest to war: delaying, sundays, cistercians, erina, rebellious, interrupted, extant, january,\n",
      "Nearest to up: ii, commercial, frontiersman, launches, living, au, from, venturing,\n",
      "Nearest to units: varieties, bath, prodi, explained, travelers, dissolution, valpara, foreknowledge,\n",
      "Nearest to scale: belonged, throw, among, holdover, simulation, submit, slower, the,\n",
      "Nearest to versions: furthering, trees, wind, gametes, audience, offender, manipulation, pressures,\n",
      "Nearest to magazine: commanded, farther, finally, pennsylvania, preparing, device, carnivores, functional,\n",
      "Nearest to powers: bodhidharma, depends, resentments, invalidate, intuition, aztec, possess, formerly,\n",
      "Nearest to pope: favorable, arrayed, appreciably, stops, ushant, incidents, ft, forbids,\n",
      "Nearest to square: chaerea, rooted, state, prices, pitchfork, specials, hypothetical, albornoz,\n",
      "Nearest to behind: novelists, triumvirate, bergerac, estados, metastability, line, network, still,\n",
      "Epoch 1/10 Iteration: 2100 Avg. Training loss: 4.9138 36.4211 sec/batch\n",
      "Epoch 1/10 Iteration: 2200 Avg. Training loss: 4.9062 36.4145 sec/batch\n",
      "Epoch 1/10 Iteration: 2300 Avg. Training loss: 4.8853 0.4729 sec/batch\n",
      "Epoch 1/10 Iteration: 2400 Avg. Training loss: 4.8624 36.4362 sec/batch\n",
      "Epoch 1/10 Iteration: 2500 Avg. Training loss: 4.8040 36.4117 sec/batch\n",
      "Epoch 1/10 Iteration: 2600 Avg. Training loss: 4.7940 36.3985 sec/batch\n",
      "Epoch 1/10 Iteration: 2700 Avg. Training loss: 4.7937 36.4034 sec/batch\n",
      "Epoch 1/10 Iteration: 2800 Avg. Training loss: 4.7922 36.4171 sec/batch\n",
      "Epoch 1/10 Iteration: 2900 Avg. Training loss: 4.7764 15.3215 sec/batch\n",
      "Epoch 1/10 Iteration: 3000 Avg. Training loss: 4.7557 0.4135 sec/batch\n",
      "Nearest to during: retailers, impression, soon, viper, chill, nightclub, operatorname, rollers,\n",
      "Nearest to some: messaging, differ, traits, cq, simplify, erne, sooner, manufacturer,\n",
      "Nearest to over: pos, octonions, nbc, counties, remains, reuben, grew, presenters,\n",
      "Nearest to history: spiky, skiers, participatory, rooms, divergences, chisholm, banking, glock,\n",
      "Nearest to most: trenches, entomology, thory, chosen, anderssen, supposes, cited, advised,\n",
      "Nearest to while: processors, fostered, prove, invulnerable, veteran, drawing, keir, litter,\n",
      "Nearest to war: delaying, sundays, cistercians, erina, interrupted, rebellious, holstein, posted,\n",
      "Nearest to up: ii, commercial, launches, togo, channels, venturing, frontiersman, au,\n",
      "Nearest to units: dissolution, prodi, implying, alliances, explained, bath, valpara, collections,\n",
      "Nearest to scale: belonged, simulation, throw, holdover, submit, fuzzy, lowlands, slower,\n",
      "Nearest to versions: furthering, trees, manipulation, wind, offender, pressures, audience, gametes,\n",
      "Nearest to magazine: farther, commanded, finally, pennsylvania, preparing, device, readable, creativity,\n",
      "Nearest to powers: bodhidharma, depends, invalidate, resentments, absorbing, aztec, possess, mushroom,\n",
      "Nearest to pope: favorable, arrayed, appreciably, stops, forbids, ascending, ushant, layered,\n",
      "Nearest to square: chaerea, rooted, specials, prices, pitchfork, exhibits, state, hypothetical,\n",
      "Nearest to behind: novelists, metastability, estados, bergerac, trademark, triumvirate, confrontations, lunch,\n",
      "Epoch 1/10 Iteration: 3100 Avg. Training loss: 4.7727 0.4075 sec/batch\n",
      "Epoch 1/10 Iteration: 3200 Avg. Training loss: 4.7721 0.3920 sec/batch\n",
      "Epoch 1/10 Iteration: 3300 Avg. Training loss: 4.7448 0.3824 sec/batch\n",
      "Epoch 1/10 Iteration: 3400 Avg. Training loss: 4.7020 0.3811 sec/batch\n",
      "Epoch 1/10 Iteration: 3500 Avg. Training loss: 4.7363 0.3836 sec/batch\n",
      "Epoch 1/10 Iteration: 3600 Avg. Training loss: 4.6826 0.3826 sec/batch\n",
      "Epoch 1/10 Iteration: 3700 Avg. Training loss: 4.6981 0.3813 sec/batch\n",
      "Epoch 1/10 Iteration: 3800 Avg. Training loss: 4.7567 0.3821 sec/batch\n",
      "Epoch 1/10 Iteration: 3900 Avg. Training loss: 4.7205 0.3804 sec/batch\n",
      "Epoch 1/10 Iteration: 4000 Avg. Training loss: 4.6519 0.3825 sec/batch\n",
      "Nearest to during: retailers, chill, operatorname, soon, amaterasu, rollers, ausgleich, nightclub,\n",
      "Nearest to some: messaging, differ, traits, cq, hashes, conditioner, thanking, excitement,\n",
      "Nearest to over: octonions, pos, dolls, youngster, grew, remains, counties, reuben,\n",
      "Nearest to history: spiky, skiers, chisholm, divergences, participatory, glock, banking, rooms,\n",
      "Nearest to most: trenches, anderssen, entomology, thory, supposes, liaison, precedence, chosen,\n",
      "Nearest to while: processors, litter, invulnerable, keir, fostered, veteran, prove, immortal,\n",
      "Nearest to war: delaying, cistercians, interrupted, sundays, rebellious, erina, holstein, january,\n",
      "Nearest to up: ii, launches, commercial, frontiersman, venturing, wavy, togo, channels,\n",
      "Nearest to units: prodi, rambling, implying, goodall, dissolution, urinary, valpara, isobaric,\n",
      "Nearest to scale: belonged, simulation, swelled, throw, skirmishers, slower, holdover, buddhahood,\n",
      "Nearest to versions: furthering, offender, manipulation, trees, wind, dosadi, pressures, wormholes,\n",
      "Nearest to magazine: finally, farther, pennsylvania, device, commanded, preparing, catwoman, readable,\n",
      "Nearest to powers: bodhidharma, aztec, resentments, invalidate, depends, hess, absorbing, frey,\n",
      "Nearest to pope: arrayed, forbids, prussians, appreciably, ushant, stops, favorable, ascending,\n",
      "Nearest to square: chaerea, rooted, bunker, elkhart, pitchfork, specials, prices, pinky,\n",
      "Nearest to behind: metastability, novelists, confrontations, bergerac, estados, trademark, continuance, murders,\n"
     ]
    },
    {
     "name": "stdout",
     "output_type": "stream",
     "text": [
      "Epoch 1/10 Iteration: 4100 Avg. Training loss: 4.6755 0.3797 sec/batch\n",
      "Epoch 1/10 Iteration: 4200 Avg. Training loss: 4.6401 0.3786 sec/batch\n",
      "Epoch 1/10 Iteration: 4300 Avg. Training loss: 4.6258 0.3835 sec/batch\n",
      "Epoch 1/10 Iteration: 4400 Avg. Training loss: 4.6459 0.3793 sec/batch\n",
      "Epoch 1/10 Iteration: 4500 Avg. Training loss: 4.6405 0.3788 sec/batch\n",
      "Epoch 1/10 Iteration: 4600 Avg. Training loss: 4.6311 9.9292 sec/batch\n",
      "Epoch 2/10 Iteration: 4700 Avg. Training loss: 4.5897 0.4090 sec/batch\n",
      "Epoch 2/10 Iteration: 4800 Avg. Training loss: 4.5613 36.4241 sec/batch\n",
      "Epoch 2/10 Iteration: 4900 Avg. Training loss: 4.5032 0.5979 sec/batch\n",
      "Epoch 2/10 Iteration: 5000 Avg. Training loss: 4.4981 0.5844 sec/batch\n",
      "Nearest to during: chill, retailers, soon, ausgleich, amaterasu, mikhalkov, rollers, nightclub,\n",
      "Nearest to some: messaging, differ, traits, pelagianism, cq, hashes, conditioner, easiest,\n",
      "Nearest to over: octonions, pos, remains, counties, rapid, grew, butcher, dolls,\n",
      "Nearest to history: spiky, skiers, divergences, chisholm, meditating, glock, banking, participatory,\n",
      "Nearest to most: trenches, anderssen, thory, pharaoh, supposes, liaison, timeless, chosen,\n",
      "Nearest to while: processors, invulnerable, litter, keir, prove, immortal, fostered, veteran,\n",
      "Nearest to war: delaying, cistercians, rebellious, interrupted, erina, sundays, hussein, denmark,\n",
      "Nearest to up: ii, channels, launches, wavy, togo, commercial, venturing, frontiersman,\n",
      "Nearest to units: prodi, urinary, goodall, haeckel, implying, isobaric, rambling, explained,\n",
      "Nearest to scale: simulation, swelled, slower, belonged, throw, balkanization, lowlands, buddhahood,\n",
      "Nearest to versions: furthering, offender, manipulation, trees, bandwidth, dosadi, teachers, mixing,\n",
      "Nearest to magazine: finally, device, catwoman, farther, readable, preparing, pennsylvania, scouting,\n",
      "Nearest to powers: bodhidharma, resentments, aztec, invalidate, hess, democratic, central, absorbing,\n",
      "Nearest to pope: arrayed, prussians, forbids, carpentry, ushant, appreciably, baptism, bums,\n",
      "Nearest to square: bunker, chaerea, elkhart, rooted, pinky, recuperate, specials, pitchfork,\n",
      "Nearest to behind: metastability, confrontations, estados, novelists, continuance, bergerac, murders, flooding,\n",
      "Epoch 2/10 Iteration: 5100 Avg. Training loss: 4.5349 11.9892 sec/batch\n",
      "Epoch 2/10 Iteration: 5200 Avg. Training loss: 4.5160 8.1319 sec/batch\n",
      "Epoch 2/10 Iteration: 5300 Avg. Training loss: 4.4571 36.4508 sec/batch\n",
      "Epoch 2/10 Iteration: 5400 Avg. Training loss: 4.5626 2.4494 sec/batch\n",
      "Epoch 2/10 Iteration: 5500 Avg. Training loss: 4.4967 5.4048 sec/batch\n",
      "Epoch 2/10 Iteration: 5600 Avg. Training loss: 4.4765 0.5434 sec/batch\n",
      "Epoch 2/10 Iteration: 5700 Avg. Training loss: 4.4422 36.4294 sec/batch\n",
      "Epoch 2/10 Iteration: 5800 Avg. Training loss: 4.4287 0.4703 sec/batch\n",
      "Epoch 2/10 Iteration: 5900 Avg. Training loss: 4.4420 36.4089 sec/batch\n",
      "Epoch 2/10 Iteration: 6000 Avg. Training loss: 4.4396 36.4048 sec/batch\n",
      "Nearest to during: chill, soon, retailers, operatorname, ausgleich, viper, dissension, amaterasu,\n",
      "Nearest to some: differ, messaging, traits, hashes, might, pelagianism, cq, simplify,\n",
      "Nearest to over: octonions, remains, rapid, grew, counties, tabla, presenters, youngster,\n",
      "Nearest to history: spiky, skiers, lingual, divergences, chisholm, participatory, marchers, glock,\n",
      "Nearest to most: anderssen, trenches, thory, pharaoh, supposes, liaison, trill, majors,\n",
      "Nearest to while: processors, litter, invulnerable, keir, fostered, prove, veteran, sequentially,\n",
      "Nearest to war: delaying, cistercians, rebellious, conflict, interrupted, erina, hussein, alliance,\n",
      "Nearest to up: ii, channels, launches, venturing, rourke, wavy, audiences, frontiersman,\n",
      "Nearest to units: prodi, isobaric, haeckel, urinary, implying, illnesses, approaches, inlays,\n",
      "Nearest to scale: simulation, slower, swelled, buddhahood, throw, balkanization, belonged, fuzzy,\n",
      "Nearest to versions: furthering, manipulation, offender, bandwidth, mixing, dosadi, trees, system,\n",
      "Nearest to magazine: catwoman, finally, readable, scouting, device, hilarious, preparing, farther,\n",
      "Nearest to powers: democratic, bodhidharma, resentments, government, central, invalidate, hess, aztec,\n",
      "Nearest to pope: prussians, arrayed, forbids, baptism, ushant, carpentry, keenly, bums,\n",
      "Nearest to square: bunker, chaerea, elkhart, pinky, shuffled, shanghai, rooted, pitchfork,\n",
      "Nearest to behind: metastability, confrontations, estados, continuance, novelists, jingles, flooding, bergerac,\n",
      "Epoch 2/10 Iteration: 6100 Avg. Training loss: 4.4409 36.4172 sec/batch\n",
      "Epoch 2/10 Iteration: 6200 Avg. Training loss: 4.4452 36.4142 sec/batch\n",
      "Epoch 2/10 Iteration: 6300 Avg. Training loss: 4.4328 36.4241 sec/batch\n",
      "Epoch 2/10 Iteration: 6400 Avg. Training loss: 4.3939 36.4085 sec/batch\n",
      "Epoch 2/10 Iteration: 6500 Avg. Training loss: 4.4311 15.3843 sec/batch\n",
      "Epoch 2/10 Iteration: 6600 Avg. Training loss: 4.4716 0.4881 sec/batch\n",
      "Epoch 2/10 Iteration: 6700 Avg. Training loss: 4.3798 0.4102 sec/batch\n",
      "Epoch 2/10 Iteration: 6800 Avg. Training loss: 4.3614 0.4234 sec/batch\n",
      "Epoch 2/10 Iteration: 6900 Avg. Training loss: 4.4294 0.3896 sec/batch\n",
      "Epoch 2/10 Iteration: 7000 Avg. Training loss: 4.3851 0.4909 sec/batch\n",
      "Nearest to during: soon, chill, retailers, amaterasu, dissension, ausgleich, wt, nightclub,\n",
      "Nearest to some: differ, messaging, traits, hashes, pelagianism, might, easiest, conditioner,\n",
      "Nearest to over: octonions, remains, grew, presenters, tabla, rapid, hermon, butcher,\n",
      "Nearest to history: spiky, skiers, lingual, chisholm, divergences, marchers, glock, marys,\n",
      "Nearest to most: trenches, anderssen, thory, liaison, trill, pharaoh, going, majors,\n",
      "Nearest to while: litter, processors, invulnerable, fostered, keir, prove, refinements, subsonic,\n",
      "Nearest to war: delaying, cistercians, interrupted, rebellious, conflict, alliance, erina, hussein,\n",
      "Nearest to up: ii, channels, launches, venturing, audiences, wavy, rourke, commercial,\n",
      "Nearest to units: isobaric, urinary, prodi, explained, proprietary, implying, haeckel, four,\n",
      "Nearest to scale: simulation, slower, throw, diode, fuzzy, secretory, buddhahood, hours,\n",
      "Nearest to versions: furthering, manipulation, bandwidth, mixing, offender, dosadi, dma, notice,\n",
      "Nearest to magazine: catwoman, scouting, device, finally, pads, readable, wo, valentinius,\n",
      "Nearest to powers: democratic, government, legislative, bodhidharma, ratification, invalidate, hess, central,\n",
      "Nearest to pope: prussians, succession, baptism, forbids, arrayed, ushant, carpentry, alexandrian,\n",
      "Nearest to square: bunker, chaerea, pinky, elkhart, shuffled, shanghai, benefitting, mountain,\n",
      "Nearest to behind: metastability, confrontations, continuance, flooding, estados, nietzsche, triumvirate, bergerac,\n",
      "Epoch 2/10 Iteration: 7100 Avg. Training loss: 4.3765 0.4377 sec/batch\n",
      "Epoch 2/10 Iteration: 7200 Avg. Training loss: 4.3871 0.4517 sec/batch\n",
      "Epoch 2/10 Iteration: 7300 Avg. Training loss: 4.3443 0.4492 sec/batch\n",
      "Epoch 2/10 Iteration: 7400 Avg. Training loss: 4.3593 0.3869 sec/batch\n",
      "Epoch 2/10 Iteration: 7500 Avg. Training loss: 4.4161 0.4407 sec/batch\n",
      "Epoch 2/10 Iteration: 7600 Avg. Training loss: 4.3714 0.5101 sec/batch\n",
      "Epoch 2/10 Iteration: 7700 Avg. Training loss: 4.3970 0.4120 sec/batch\n"
     ]
    },
    {
     "ename": "KeyboardInterrupt",
     "evalue": "",
     "output_type": "error",
     "traceback": [
      "\u001b[0;31m---------------------------------------------------------------------------\u001b[0m",
      "\u001b[0;31mKeyboardInterrupt\u001b[0m                         Traceback (most recent call last)",
      "\u001b[0;32m<ipython-input-34-b1d3869cd0d6>\u001b[0m in \u001b[0;36m<module>\u001b[0;34m()\u001b[0m\n\u001b[1;32m     18\u001b[0m             feed = {inputs: x,\n\u001b[1;32m     19\u001b[0m                     labels: np.array(y)[:, None]}\n\u001b[0;32m---> 20\u001b[0;31m             \u001b[0mtrain_loss\u001b[0m\u001b[0;34m,\u001b[0m \u001b[0m_\u001b[0m \u001b[0;34m=\u001b[0m \u001b[0msess\u001b[0m\u001b[0;34m.\u001b[0m\u001b[0mrun\u001b[0m\u001b[0;34m(\u001b[0m\u001b[0;34m[\u001b[0m\u001b[0mcost\u001b[0m\u001b[0;34m,\u001b[0m \u001b[0moptimizer\u001b[0m\u001b[0;34m]\u001b[0m\u001b[0;34m,\u001b[0m \u001b[0mfeed_dict\u001b[0m\u001b[0;34m=\u001b[0m\u001b[0mfeed\u001b[0m\u001b[0;34m)\u001b[0m\u001b[0;34m\u001b[0m\u001b[0m\n\u001b[0m\u001b[1;32m     21\u001b[0m \u001b[0;34m\u001b[0m\u001b[0m\n\u001b[1;32m     22\u001b[0m             \u001b[0mloss\u001b[0m \u001b[0;34m+=\u001b[0m \u001b[0mtrain_loss\u001b[0m\u001b[0;34m\u001b[0m\u001b[0m\n",
      "\u001b[0;32m/Users/gregashby/anaconda3/envs/dlnd/lib/python3.6/site-packages/tensorflow/python/client/session.py\u001b[0m in \u001b[0;36mrun\u001b[0;34m(self, fetches, feed_dict, options, run_metadata)\u001b[0m\n\u001b[1;32m    765\u001b[0m     \u001b[0;32mtry\u001b[0m\u001b[0;34m:\u001b[0m\u001b[0;34m\u001b[0m\u001b[0m\n\u001b[1;32m    766\u001b[0m       result = self._run(None, fetches, feed_dict, options_ptr,\n\u001b[0;32m--> 767\u001b[0;31m                          run_metadata_ptr)\n\u001b[0m\u001b[1;32m    768\u001b[0m       \u001b[0;32mif\u001b[0m \u001b[0mrun_metadata\u001b[0m\u001b[0;34m:\u001b[0m\u001b[0;34m\u001b[0m\u001b[0m\n\u001b[1;32m    769\u001b[0m         \u001b[0mproto_data\u001b[0m \u001b[0;34m=\u001b[0m \u001b[0mtf_session\u001b[0m\u001b[0;34m.\u001b[0m\u001b[0mTF_GetBuffer\u001b[0m\u001b[0;34m(\u001b[0m\u001b[0mrun_metadata_ptr\u001b[0m\u001b[0;34m)\u001b[0m\u001b[0;34m\u001b[0m\u001b[0m\n",
      "\u001b[0;32m/Users/gregashby/anaconda3/envs/dlnd/lib/python3.6/site-packages/tensorflow/python/client/session.py\u001b[0m in \u001b[0;36m_run\u001b[0;34m(self, handle, fetches, feed_dict, options, run_metadata)\u001b[0m\n\u001b[1;32m    963\u001b[0m     \u001b[0;32mif\u001b[0m \u001b[0mfinal_fetches\u001b[0m \u001b[0;32mor\u001b[0m \u001b[0mfinal_targets\u001b[0m\u001b[0;34m:\u001b[0m\u001b[0;34m\u001b[0m\u001b[0m\n\u001b[1;32m    964\u001b[0m       results = self._do_run(handle, final_targets, final_fetches,\n\u001b[0;32m--> 965\u001b[0;31m                              feed_dict_string, options, run_metadata)\n\u001b[0m\u001b[1;32m    966\u001b[0m     \u001b[0;32melse\u001b[0m\u001b[0;34m:\u001b[0m\u001b[0;34m\u001b[0m\u001b[0m\n\u001b[1;32m    967\u001b[0m       \u001b[0mresults\u001b[0m \u001b[0;34m=\u001b[0m \u001b[0;34m[\u001b[0m\u001b[0;34m]\u001b[0m\u001b[0;34m\u001b[0m\u001b[0m\n",
      "\u001b[0;32m/Users/gregashby/anaconda3/envs/dlnd/lib/python3.6/site-packages/tensorflow/python/client/session.py\u001b[0m in \u001b[0;36m_do_run\u001b[0;34m(self, handle, target_list, fetch_list, feed_dict, options, run_metadata)\u001b[0m\n\u001b[1;32m   1013\u001b[0m     \u001b[0;32mif\u001b[0m \u001b[0mhandle\u001b[0m \u001b[0;32mis\u001b[0m \u001b[0;32mNone\u001b[0m\u001b[0;34m:\u001b[0m\u001b[0;34m\u001b[0m\u001b[0m\n\u001b[1;32m   1014\u001b[0m       return self._do_call(_run_fn, self._session, feed_dict, fetch_list,\n\u001b[0;32m-> 1015\u001b[0;31m                            target_list, options, run_metadata)\n\u001b[0m\u001b[1;32m   1016\u001b[0m     \u001b[0;32melse\u001b[0m\u001b[0;34m:\u001b[0m\u001b[0;34m\u001b[0m\u001b[0m\n\u001b[1;32m   1017\u001b[0m       return self._do_call(_prun_fn, self._session, handle, feed_dict,\n",
      "\u001b[0;32m/Users/gregashby/anaconda3/envs/dlnd/lib/python3.6/site-packages/tensorflow/python/client/session.py\u001b[0m in \u001b[0;36m_do_call\u001b[0;34m(self, fn, *args)\u001b[0m\n\u001b[1;32m   1020\u001b[0m   \u001b[0;32mdef\u001b[0m \u001b[0m_do_call\u001b[0m\u001b[0;34m(\u001b[0m\u001b[0mself\u001b[0m\u001b[0;34m,\u001b[0m \u001b[0mfn\u001b[0m\u001b[0;34m,\u001b[0m \u001b[0;34m*\u001b[0m\u001b[0margs\u001b[0m\u001b[0;34m)\u001b[0m\u001b[0;34m:\u001b[0m\u001b[0;34m\u001b[0m\u001b[0m\n\u001b[1;32m   1021\u001b[0m     \u001b[0;32mtry\u001b[0m\u001b[0;34m:\u001b[0m\u001b[0;34m\u001b[0m\u001b[0m\n\u001b[0;32m-> 1022\u001b[0;31m       \u001b[0;32mreturn\u001b[0m \u001b[0mfn\u001b[0m\u001b[0;34m(\u001b[0m\u001b[0;34m*\u001b[0m\u001b[0margs\u001b[0m\u001b[0;34m)\u001b[0m\u001b[0;34m\u001b[0m\u001b[0m\n\u001b[0m\u001b[1;32m   1023\u001b[0m     \u001b[0;32mexcept\u001b[0m \u001b[0merrors\u001b[0m\u001b[0;34m.\u001b[0m\u001b[0mOpError\u001b[0m \u001b[0;32mas\u001b[0m \u001b[0me\u001b[0m\u001b[0;34m:\u001b[0m\u001b[0;34m\u001b[0m\u001b[0m\n\u001b[1;32m   1024\u001b[0m       \u001b[0mmessage\u001b[0m \u001b[0;34m=\u001b[0m \u001b[0mcompat\u001b[0m\u001b[0;34m.\u001b[0m\u001b[0mas_text\u001b[0m\u001b[0;34m(\u001b[0m\u001b[0me\u001b[0m\u001b[0;34m.\u001b[0m\u001b[0mmessage\u001b[0m\u001b[0;34m)\u001b[0m\u001b[0;34m\u001b[0m\u001b[0m\n",
      "\u001b[0;32m/Users/gregashby/anaconda3/envs/dlnd/lib/python3.6/site-packages/tensorflow/python/client/session.py\u001b[0m in \u001b[0;36m_run_fn\u001b[0;34m(session, feed_dict, fetch_list, target_list, options, run_metadata)\u001b[0m\n\u001b[1;32m   1002\u001b[0m         return tf_session.TF_Run(session, options,\n\u001b[1;32m   1003\u001b[0m                                  \u001b[0mfeed_dict\u001b[0m\u001b[0;34m,\u001b[0m \u001b[0mfetch_list\u001b[0m\u001b[0;34m,\u001b[0m \u001b[0mtarget_list\u001b[0m\u001b[0;34m,\u001b[0m\u001b[0;34m\u001b[0m\u001b[0m\n\u001b[0;32m-> 1004\u001b[0;31m                                  status, run_metadata)\n\u001b[0m\u001b[1;32m   1005\u001b[0m \u001b[0;34m\u001b[0m\u001b[0m\n\u001b[1;32m   1006\u001b[0m     \u001b[0;32mdef\u001b[0m \u001b[0m_prun_fn\u001b[0m\u001b[0;34m(\u001b[0m\u001b[0msession\u001b[0m\u001b[0;34m,\u001b[0m \u001b[0mhandle\u001b[0m\u001b[0;34m,\u001b[0m \u001b[0mfeed_dict\u001b[0m\u001b[0;34m,\u001b[0m \u001b[0mfetch_list\u001b[0m\u001b[0;34m)\u001b[0m\u001b[0;34m:\u001b[0m\u001b[0;34m\u001b[0m\u001b[0m\n",
      "\u001b[0;31mKeyboardInterrupt\u001b[0m: "
     ]
    }
   ],
=======
   "execution_count": null,
   "metadata": {
    "collapsed": true
   },
   "outputs": [],
>>>>>>> 5443c49497a9e90ae7ddb4da49ef94f41aa6303f
   "source": [
    "epochs = 10\n",
    "batch_size = 1000\n",
    "window_size = 10\n",
    "\n",
    "with train_graph.as_default():\n",
    "    saver = tf.train.Saver()\n",
    "\n",
    "with tf.Session(graph=train_graph) as sess:\n",
    "    iteration = 1\n",
    "    loss = 0\n",
    "    sess.run(tf.global_variables_initializer())\n",
    "\n",
    "    for e in range(1, epochs+1):\n",
    "        batches = get_batches(train_words, batch_size, window_size)\n",
    "        start = time.time()\n",
    "        for x, y in batches:\n",
    "            \n",
    "            feed = {inputs: x,\n",
    "                    labels: np.array(y)[:, None]}\n",
    "            train_loss, _ = sess.run([cost, optimizer], feed_dict=feed)\n",
    "            \n",
    "            loss += train_loss\n",
    "            \n",
    "            if iteration % 100 == 0: \n",
    "                end = time.time()\n",
    "                print(\"Epoch {}/{}\".format(e, epochs),\n",
    "                      \"Iteration: {}\".format(iteration),\n",
    "                      \"Avg. Training loss: {:.4f}\".format(loss/100),\n",
    "                      \"{:.4f} sec/batch\".format((end-start)/100))\n",
    "                loss = 0\n",
    "                start = time.time()\n",
    "            \n",
    "            if iteration % 1000 == 0:\n",
    "                ## From Thushan Ganegedara's implementation\n",
    "                # note that this is expensive (~20% slowdown if computed every 500 steps)\n",
    "                sim = similarity.eval()\n",
    "                for i in range(valid_size):\n",
    "                    valid_word = int_to_vocab[valid_examples[i]]\n",
    "                    top_k = 8 # number of nearest neighbors\n",
    "                    nearest = (-sim[i, :]).argsort()[1:top_k+1]\n",
    "                    log = 'Nearest to %s:' % valid_word\n",
    "                    for k in range(top_k):\n",
    "                        close_word = int_to_vocab[nearest[k]]\n",
    "                        log = '%s %s,' % (log, close_word)\n",
    "                    print(log)\n",
    "            \n",
    "            iteration += 1\n",
    "    save_path = saver.save(sess, \"checkpoints/text8.ckpt\")\n",
    "    embed_mat = sess.run(normalized_embedding)"
   ]
  },
  {
   "cell_type": "markdown",
   "metadata": {},
   "source": [
    "Restore the trained network if you need to:"
   ]
  },
  {
   "cell_type": "code",
   "execution_count": null,
<<<<<<< HEAD
   "metadata": {},
=======
   "metadata": {
    "collapsed": true
   },
>>>>>>> 5443c49497a9e90ae7ddb4da49ef94f41aa6303f
   "outputs": [],
   "source": [
    "with train_graph.as_default():\n",
    "    saver = tf.train.Saver()\n",
    "\n",
    "with tf.Session(graph=train_graph) as sess:\n",
    "    saver.restore(sess, tf.train.latest_checkpoint('checkpoints'))\n",
    "    embed_mat = sess.run(embedding)"
   ]
  },
  {
   "cell_type": "markdown",
   "metadata": {},
   "source": [
    "## Visualizing the word vectors\n",
    "\n",
    "Below we'll use T-SNE to visualize how our high-dimensional word vectors cluster together. T-SNE is used to project these vectors into two dimensions while preserving local stucture. Check out [this post from Christopher Olah](http://colah.github.io/posts/2014-10-Visualizing-MNIST/) to learn more about T-SNE and other ways to visualize high-dimensional data."
   ]
  },
  {
   "cell_type": "code",
   "execution_count": null,
<<<<<<< HEAD
   "metadata": {},
=======
   "metadata": {
    "collapsed": true
   },
>>>>>>> 5443c49497a9e90ae7ddb4da49ef94f41aa6303f
   "outputs": [],
   "source": [
    "%matplotlib inline\n",
    "%config InlineBackend.figure_format = 'retina'\n",
    "\n",
    "import matplotlib.pyplot as plt\n",
    "from sklearn.manifold import TSNE"
   ]
  },
  {
   "cell_type": "code",
   "execution_count": null,
<<<<<<< HEAD
   "metadata": {},
=======
   "metadata": {
    "collapsed": true
   },
>>>>>>> 5443c49497a9e90ae7ddb4da49ef94f41aa6303f
   "outputs": [],
   "source": [
    "viz_words = 500\n",
    "tsne = TSNE()\n",
    "embed_tsne = tsne.fit_transform(embed_mat[:viz_words, :])"
   ]
  },
  {
   "cell_type": "code",
   "execution_count": null,
<<<<<<< HEAD
   "metadata": {},
=======
   "metadata": {
    "collapsed": true
   },
>>>>>>> 5443c49497a9e90ae7ddb4da49ef94f41aa6303f
   "outputs": [],
   "source": [
    "fig, ax = plt.subplots(figsize=(14, 14))\n",
    "for idx in range(viz_words):\n",
    "    plt.scatter(*embed_tsne[idx, :], color='steelblue')\n",
    "    plt.annotate(int_to_vocab[idx], (embed_tsne[idx, 0], embed_tsne[idx, 1]), alpha=0.7)"
   ]
  }
 ],
 "metadata": {
  "kernelspec": {
   "display_name": "Python 3",
   "language": "python",
   "name": "python3"
  },
  "language_info": {
   "codemirror_mode": {
    "name": "ipython",
    "version": 3
   },
   "file_extension": ".py",
   "mimetype": "text/x-python",
   "name": "python",
   "nbconvert_exporter": "python",
   "pygments_lexer": "ipython3",
   "version": "3.6.1"
  }
 },
 "nbformat": 4,
 "nbformat_minor": 2
}
